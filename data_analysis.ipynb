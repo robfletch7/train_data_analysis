{
 "cells": [
  {
   "cell_type": "markdown",
   "metadata": {},
   "source": [
    "Notebook to Analyse train data"
   ]
  },
  {
   "cell_type": "markdown",
   "metadata": {},
   "source": [
    "------------------------ SECTION 1: Indentifying Train Operator -------------------------"
   ]
  },
  {
   "cell_type": "markdown",
   "metadata": {},
   "source": [
    "Import data"
   ]
  },
  {
   "cell_type": "code",
   "execution_count": 2,
   "metadata": {},
   "outputs": [],
   "source": [
    "import pandas as pd\n",
    "df = pd.read_csv('train_timings_data.csv')\n",
    "map_df = pd.read_csv('STANOX_mappings.csv')"
   ]
  },
  {
   "cell_type": "markdown",
   "metadata": {},
   "source": [
    "Drop NaNs from mapping table"
   ]
  },
  {
   "cell_type": "code",
   "execution_count": 3,
   "metadata": {},
   "outputs": [],
   "source": [
    "map_df['STANOX'] = pd.to_numeric(map_df['STANOX'],errors='coerce')\n",
    "map_df = map_df[map_df['STANOX'].notna()]\n",
    "map_df = map_df[['STANOX','Location']]\n"
   ]
  },
  {
   "cell_type": "markdown",
   "metadata": {},
   "source": [
    "Join Mapping table"
   ]
  },
  {
   "cell_type": "code",
   "execution_count": 4,
   "metadata": {},
   "outputs": [],
   "source": [
    "df = pd.merge(df,map_df,left_on='planned_event_location',right_on='STANOX',how='left')"
   ]
  },
  {
   "cell_type": "markdown",
   "metadata": {},
   "source": [
    "Check dataframe properties"
   ]
  },
  {
   "cell_type": "code",
   "execution_count": 5,
   "metadata": {},
   "outputs": [
    {
     "data": {
      "text/plain": [
       "origin_date                   124\n",
       "train_id                    36090\n",
       "signal                        343\n",
       "signal_passing_time       2160710\n",
       "planned_event_type              3\n",
       "planned_event_location         26\n",
       "planned_event_time         279171\n",
       "actual_event_time          843324\n",
       "STANOX                         26\n",
       "Location                       26\n",
       "dtype: int64"
      ]
     },
     "execution_count": 5,
     "metadata": {},
     "output_type": "execute_result"
    }
   ],
   "source": [
    "df.nunique()"
   ]
  },
  {
   "cell_type": "markdown",
   "metadata": {},
   "source": [
    "Check first 5 rows"
   ]
  },
  {
   "cell_type": "code",
   "execution_count": 7,
   "metadata": {},
   "outputs": [
    {
     "data": {
      "text/html": [
       "<div>\n",
       "<style scoped>\n",
       "    .dataframe tbody tr th:only-of-type {\n",
       "        vertical-align: middle;\n",
       "    }\n",
       "\n",
       "    .dataframe tbody tr th {\n",
       "        vertical-align: top;\n",
       "    }\n",
       "\n",
       "    .dataframe thead th {\n",
       "        text-align: right;\n",
       "    }\n",
       "</style>\n",
       "<table border=\"1\" class=\"dataframe\">\n",
       "  <thead>\n",
       "    <tr style=\"text-align: right;\">\n",
       "      <th></th>\n",
       "      <th>origin_date</th>\n",
       "      <th>train_id</th>\n",
       "      <th>signal</th>\n",
       "      <th>signal_passing_time</th>\n",
       "      <th>planned_event_type</th>\n",
       "      <th>planned_event_location</th>\n",
       "      <th>planned_event_time</th>\n",
       "      <th>actual_event_time</th>\n",
       "      <th>STANOX</th>\n",
       "      <th>Location</th>\n",
       "    </tr>\n",
       "  </thead>\n",
       "  <tbody>\n",
       "    <tr>\n",
       "      <th>0</th>\n",
       "      <td>2022-07-31</td>\n",
       "      <td>521B141I31</td>\n",
       "      <td>Q50305</td>\n",
       "      <td>2022-07-31 10:49:13+00:00</td>\n",
       "      <td>DEPARTURE</td>\n",
       "      <td>51013.0</td>\n",
       "      <td>2022-07-31 10:49:00+00:00</td>\n",
       "      <td>2022-07-31 10:49:01+00:00</td>\n",
       "      <td>51013.0</td>\n",
       "      <td>Leigh-On-Sea</td>\n",
       "    </tr>\n",
       "    <tr>\n",
       "      <th>1</th>\n",
       "      <td>2022-07-31</td>\n",
       "      <td>521B141I31</td>\n",
       "      <td>Q50307</td>\n",
       "      <td>2022-07-31 10:49:43+00:00</td>\n",
       "      <td>NaN</td>\n",
       "      <td>NaN</td>\n",
       "      <td>NaN</td>\n",
       "      <td>NaN</td>\n",
       "      <td>NaN</td>\n",
       "      <td>NaN</td>\n",
       "    </tr>\n",
       "    <tr>\n",
       "      <th>2</th>\n",
       "      <td>2022-07-31</td>\n",
       "      <td>521B141I31</td>\n",
       "      <td>Q50309</td>\n",
       "      <td>2022-07-31 10:50:17+00:00</td>\n",
       "      <td>NaN</td>\n",
       "      <td>NaN</td>\n",
       "      <td>NaN</td>\n",
       "      <td>NaN</td>\n",
       "      <td>NaN</td>\n",
       "      <td>NaN</td>\n",
       "    </tr>\n",
       "    <tr>\n",
       "      <th>3</th>\n",
       "      <td>2022-07-31</td>\n",
       "      <td>521B141I31</td>\n",
       "      <td>Q50311</td>\n",
       "      <td>2022-07-31 10:50:41+00:00</td>\n",
       "      <td>ARRIVAL</td>\n",
       "      <td>51011.0</td>\n",
       "      <td>2022-07-31 10:51:00+00:00</td>\n",
       "      <td>2022-07-31 10:51:12+00:00</td>\n",
       "      <td>51011.0</td>\n",
       "      <td>Chalkwell</td>\n",
       "    </tr>\n",
       "    <tr>\n",
       "      <th>4</th>\n",
       "      <td>2022-07-31</td>\n",
       "      <td>521B141I31</td>\n",
       "      <td>Q50315</td>\n",
       "      <td>2022-07-31 10:52:39+00:00</td>\n",
       "      <td>DEPARTURE</td>\n",
       "      <td>51011.0</td>\n",
       "      <td>2022-07-31 10:51:30+00:00</td>\n",
       "      <td>2022-07-31 10:52:12+00:00</td>\n",
       "      <td>51011.0</td>\n",
       "      <td>Chalkwell</td>\n",
       "    </tr>\n",
       "  </tbody>\n",
       "</table>\n",
       "</div>"
      ],
      "text/plain": [
       "  origin_date    train_id  signal        signal_passing_time  \\\n",
       "0  2022-07-31  521B141I31  Q50305  2022-07-31 10:49:13+00:00   \n",
       "1  2022-07-31  521B141I31  Q50307  2022-07-31 10:49:43+00:00   \n",
       "2  2022-07-31  521B141I31  Q50309  2022-07-31 10:50:17+00:00   \n",
       "3  2022-07-31  521B141I31  Q50311  2022-07-31 10:50:41+00:00   \n",
       "4  2022-07-31  521B141I31  Q50315  2022-07-31 10:52:39+00:00   \n",
       "\n",
       "  planned_event_type  planned_event_location         planned_event_time  \\\n",
       "0          DEPARTURE                 51013.0  2022-07-31 10:49:00+00:00   \n",
       "1                NaN                     NaN                        NaN   \n",
       "2                NaN                     NaN                        NaN   \n",
       "3            ARRIVAL                 51011.0  2022-07-31 10:51:00+00:00   \n",
       "4          DEPARTURE                 51011.0  2022-07-31 10:51:30+00:00   \n",
       "\n",
       "           actual_event_time   STANOX      Location  \n",
       "0  2022-07-31 10:49:01+00:00  51013.0  Leigh-On-Sea  \n",
       "1                        NaN      NaN           NaN  \n",
       "2                        NaN      NaN           NaN  \n",
       "3  2022-07-31 10:51:12+00:00  51011.0     Chalkwell  \n",
       "4  2022-07-31 10:52:12+00:00  51011.0     Chalkwell  "
      ]
     },
     "execution_count": 7,
     "metadata": {},
     "output_type": "execute_result"
    }
   ],
   "source": [
    "df.head()"
   ]
  },
  {
   "cell_type": "markdown",
   "metadata": {},
   "source": [
    "Get sample train_ids"
   ]
  },
  {
   "cell_type": "code",
   "execution_count": 9,
   "metadata": {},
   "outputs": [
    {
     "data": {
      "text/html": [
       "<div>\n",
       "<style scoped>\n",
       "    .dataframe tbody tr th:only-of-type {\n",
       "        vertical-align: middle;\n",
       "    }\n",
       "\n",
       "    .dataframe tbody tr th {\n",
       "        vertical-align: top;\n",
       "    }\n",
       "\n",
       "    .dataframe thead th {\n",
       "        text-align: right;\n",
       "    }\n",
       "</style>\n",
       "<table border=\"1\" class=\"dataframe\">\n",
       "  <thead>\n",
       "    <tr style=\"text-align: right;\">\n",
       "      <th></th>\n",
       "      <th>origin_date</th>\n",
       "      <th>train_id</th>\n",
       "      <th>signal</th>\n",
       "      <th>signal_passing_time</th>\n",
       "      <th>planned_event_type</th>\n",
       "      <th>planned_event_location</th>\n",
       "      <th>planned_event_time</th>\n",
       "      <th>actual_event_time</th>\n",
       "      <th>STANOX</th>\n",
       "      <th>Location</th>\n",
       "    </tr>\n",
       "  </thead>\n",
       "  <tbody>\n",
       "    <tr>\n",
       "      <th>1250292</th>\n",
       "      <td>2022-05-31</td>\n",
       "      <td>515J391031</td>\n",
       "      <td>Q50611</td>\n",
       "      <td>2022-05-30 23:21:53+00:00</td>\n",
       "      <td>DEPARTURE</td>\n",
       "      <td>51531.0</td>\n",
       "      <td>2022-05-30 23:22:00+00:00</td>\n",
       "      <td>2022-05-30 23:21:31+00:00</td>\n",
       "      <td>51531.0</td>\n",
       "      <td>Barking</td>\n",
       "    </tr>\n",
       "    <tr>\n",
       "      <th>795778</th>\n",
       "      <td>2022-05-10</td>\n",
       "      <td>512D07M610</td>\n",
       "      <td>Q5UGAP</td>\n",
       "      <td>2022-05-10 05:17:36+00:00</td>\n",
       "      <td>ARRIVAL</td>\n",
       "      <td>51313.0</td>\n",
       "      <td>2022-05-10 05:18:30+00:00</td>\n",
       "      <td>2022-05-10 05:19:10+00:00</td>\n",
       "      <td>51313.0</td>\n",
       "      <td>Chafford Hundred</td>\n",
       "    </tr>\n",
       "    <tr>\n",
       "      <th>2085523</th>\n",
       "      <td>2022-07-10</td>\n",
       "      <td>515S421710</td>\n",
       "      <td>Q5C354</td>\n",
       "      <td>2022-07-10 20:57:37+00:00</td>\n",
       "      <td>NaN</td>\n",
       "      <td>NaN</td>\n",
       "      <td>NaN</td>\n",
       "      <td>NaN</td>\n",
       "      <td>NaN</td>\n",
       "      <td>NaN</td>\n",
       "    </tr>\n",
       "    <tr>\n",
       "      <th>1429156</th>\n",
       "      <td>2022-06-08</td>\n",
       "      <td>522B44M008</td>\n",
       "      <td>Q5C101</td>\n",
       "      <td>2022-06-07 23:02:07+00:00</td>\n",
       "      <td>NaN</td>\n",
       "      <td>NaN</td>\n",
       "      <td>NaN</td>\n",
       "      <td>NaN</td>\n",
       "      <td>NaN</td>\n",
       "      <td>NaN</td>\n",
       "    </tr>\n",
       "    <tr>\n",
       "      <th>160102</th>\n",
       "      <td>2022-04-08</td>\n",
       "      <td>511B05M608</td>\n",
       "      <td>Q50566</td>\n",
       "      <td>2022-04-08 05:34:12+00:00</td>\n",
       "      <td>DEPARTURE</td>\n",
       "      <td>51013.0</td>\n",
       "      <td>2022-04-08 05:34:00+00:00</td>\n",
       "      <td>2022-04-08 05:33:40+00:00</td>\n",
       "      <td>51013.0</td>\n",
       "      <td>Leigh-On-Sea</td>\n",
       "    </tr>\n",
       "  </tbody>\n",
       "</table>\n",
       "</div>"
      ],
      "text/plain": [
       "        origin_date    train_id  signal        signal_passing_time  \\\n",
       "1250292  2022-05-31  515J391031  Q50611  2022-05-30 23:21:53+00:00   \n",
       "795778   2022-05-10  512D07M610  Q5UGAP  2022-05-10 05:17:36+00:00   \n",
       "2085523  2022-07-10  515S421710  Q5C354  2022-07-10 20:57:37+00:00   \n",
       "1429156  2022-06-08  522B44M008  Q5C101  2022-06-07 23:02:07+00:00   \n",
       "160102   2022-04-08  511B05M608  Q50566  2022-04-08 05:34:12+00:00   \n",
       "\n",
       "        planned_event_type  planned_event_location         planned_event_time  \\\n",
       "1250292          DEPARTURE                 51531.0  2022-05-30 23:22:00+00:00   \n",
       "795778             ARRIVAL                 51313.0  2022-05-10 05:18:30+00:00   \n",
       "2085523                NaN                     NaN                        NaN   \n",
       "1429156                NaN                     NaN                        NaN   \n",
       "160102           DEPARTURE                 51013.0  2022-04-08 05:34:00+00:00   \n",
       "\n",
       "                 actual_event_time   STANOX          Location  \n",
       "1250292  2022-05-30 23:21:31+00:00  51531.0           Barking  \n",
       "795778   2022-05-10 05:19:10+00:00  51313.0  Chafford Hundred  \n",
       "2085523                        NaN      NaN               NaN  \n",
       "1429156                        NaN      NaN               NaN  \n",
       "160102   2022-04-08 05:33:40+00:00  51013.0      Leigh-On-Sea  "
      ]
     },
     "execution_count": 9,
     "metadata": {},
     "output_type": "execute_result"
    }
   ],
   "source": [
    "df.drop_duplicates(subset='train_id').sample(5)"
   ]
  },
  {
   "cell_type": "markdown",
   "metadata": {},
   "source": [
    "Check all events for single train_id"
   ]
  },
  {
   "cell_type": "code",
   "execution_count": 10,
   "metadata": {},
   "outputs": [
    {
     "data": {
      "text/html": [
       "<div>\n",
       "<style scoped>\n",
       "    .dataframe tbody tr th:only-of-type {\n",
       "        vertical-align: middle;\n",
       "    }\n",
       "\n",
       "    .dataframe tbody tr th {\n",
       "        vertical-align: top;\n",
       "    }\n",
       "\n",
       "    .dataframe thead th {\n",
       "        text-align: right;\n",
       "    }\n",
       "</style>\n",
       "<table border=\"1\" class=\"dataframe\">\n",
       "  <thead>\n",
       "    <tr style=\"text-align: right;\">\n",
       "      <th></th>\n",
       "      <th>planned_event_time</th>\n",
       "      <th>Location</th>\n",
       "      <th>planned_event_type</th>\n",
       "      <th>actual_event_time</th>\n",
       "      <th>signal</th>\n",
       "    </tr>\n",
       "  </thead>\n",
       "  <tbody>\n",
       "    <tr>\n",
       "      <th>549577</th>\n",
       "      <td>2022-04-27 17:51:00+00:00</td>\n",
       "      <td>Barking</td>\n",
       "      <td>ARRIVAL</td>\n",
       "      <td>2022-04-27 17:49:45+00:00</td>\n",
       "      <td>Q50612</td>\n",
       "    </tr>\n",
       "    <tr>\n",
       "      <th>549578</th>\n",
       "      <td>2022-04-27 17:52:00+00:00</td>\n",
       "      <td>Barking</td>\n",
       "      <td>DEPARTURE</td>\n",
       "      <td>2022-04-27 17:51:32+00:00</td>\n",
       "      <td>Q50610</td>\n",
       "    </tr>\n",
       "    <tr>\n",
       "      <th>549586</th>\n",
       "      <td>2022-04-27 17:57:00+00:00</td>\n",
       "      <td>West Ham High Level</td>\n",
       "      <td>ARRIVAL</td>\n",
       "      <td>2022-04-27 17:56:28+00:00</td>\n",
       "      <td>Q50138</td>\n",
       "    </tr>\n",
       "    <tr>\n",
       "      <th>549587</th>\n",
       "      <td>2022-04-27 17:58:00+00:00</td>\n",
       "      <td>West Ham High Level</td>\n",
       "      <td>DEPARTURE</td>\n",
       "      <td>2022-04-27 17:57:30+00:00</td>\n",
       "      <td>Q50136</td>\n",
       "    </tr>\n",
       "    <tr>\n",
       "      <th>549590</th>\n",
       "      <td>2022-04-27 18:01:00+00:00</td>\n",
       "      <td>Gas Factory Junction</td>\n",
       "      <td>DEPARTURE</td>\n",
       "      <td>2022-04-27 17:59:51+00:00</td>\n",
       "      <td>Q50130</td>\n",
       "    </tr>\n",
       "    <tr>\n",
       "      <th>549593</th>\n",
       "      <td>2022-04-27 18:03:00+00:00</td>\n",
       "      <td>Limehouse</td>\n",
       "      <td>ARRIVAL</td>\n",
       "      <td>2022-04-27 18:01:37+00:00</td>\n",
       "      <td>Q50124</td>\n",
       "    </tr>\n",
       "    <tr>\n",
       "      <th>549594</th>\n",
       "      <td>2022-04-27 18:04:00+00:00</td>\n",
       "      <td>Limehouse</td>\n",
       "      <td>DEPARTURE</td>\n",
       "      <td>2022-04-27 18:03:36+00:00</td>\n",
       "      <td>Q50122</td>\n",
       "    </tr>\n",
       "    <tr>\n",
       "      <th>549598</th>\n",
       "      <td>2022-04-27 18:06:00+00:00</td>\n",
       "      <td>Christian Street Junction</td>\n",
       "      <td>DEPARTURE</td>\n",
       "      <td>2022-04-27 18:05:37+00:00</td>\n",
       "      <td>Q50112</td>\n",
       "    </tr>\n",
       "    <tr>\n",
       "      <th>549600</th>\n",
       "      <td>2022-04-27 18:09:00+00:00</td>\n",
       "      <td>Fenchurch Street</td>\n",
       "      <td>DESTINATION</td>\n",
       "      <td>2022-04-27 18:09:57+00:00</td>\n",
       "      <td>Q50510</td>\n",
       "    </tr>\n",
       "    <tr>\n",
       "      <th>1188416</th>\n",
       "      <td>2022-05-27 17:57:00+00:00</td>\n",
       "      <td>Barking</td>\n",
       "      <td>ARRIVAL</td>\n",
       "      <td>2022-05-27 17:55:43+00:00</td>\n",
       "      <td>Q50612</td>\n",
       "    </tr>\n",
       "  </tbody>\n",
       "</table>\n",
       "</div>"
      ],
      "text/plain": [
       "                planned_event_time                   Location  \\\n",
       "549577   2022-04-27 17:51:00+00:00                    Barking   \n",
       "549578   2022-04-27 17:52:00+00:00                    Barking   \n",
       "549586   2022-04-27 17:57:00+00:00        West Ham High Level   \n",
       "549587   2022-04-27 17:58:00+00:00        West Ham High Level   \n",
       "549590   2022-04-27 18:01:00+00:00       Gas Factory Junction   \n",
       "549593   2022-04-27 18:03:00+00:00                  Limehouse   \n",
       "549594   2022-04-27 18:04:00+00:00                  Limehouse   \n",
       "549598   2022-04-27 18:06:00+00:00  Christian Street Junction   \n",
       "549600   2022-04-27 18:09:00+00:00           Fenchurch Street   \n",
       "1188416  2022-05-27 17:57:00+00:00                    Barking   \n",
       "\n",
       "        planned_event_type          actual_event_time  signal  \n",
       "549577             ARRIVAL  2022-04-27 17:49:45+00:00  Q50612  \n",
       "549578           DEPARTURE  2022-04-27 17:51:32+00:00  Q50610  \n",
       "549586             ARRIVAL  2022-04-27 17:56:28+00:00  Q50138  \n",
       "549587           DEPARTURE  2022-04-27 17:57:30+00:00  Q50136  \n",
       "549590           DEPARTURE  2022-04-27 17:59:51+00:00  Q50130  \n",
       "549593             ARRIVAL  2022-04-27 18:01:37+00:00  Q50124  \n",
       "549594           DEPARTURE  2022-04-27 18:03:36+00:00  Q50122  \n",
       "549598           DEPARTURE  2022-04-27 18:05:37+00:00  Q50112  \n",
       "549600         DESTINATION  2022-04-27 18:09:57+00:00  Q50510  \n",
       "1188416            ARRIVAL  2022-05-27 17:55:43+00:00  Q50612  "
      ]
     },
     "execution_count": 10,
     "metadata": {},
     "output_type": "execute_result"
    }
   ],
   "source": [
    "df.loc[df['train_id']=='512R27MX27'].sort_values(by = 'signal_passing_time')[['planned_event_time'\n",
    ",'Location','planned_event_type','actual_event_time','signal']].dropna().head(10)"
   ]
  },
  {
   "cell_type": "markdown",
   "metadata": {},
   "source": [
    "Check one signal"
   ]
  },
  {
   "cell_type": "code",
   "execution_count": 11,
   "metadata": {},
   "outputs": [
    {
     "data": {
      "text/html": [
       "<div>\n",
       "<style scoped>\n",
       "    .dataframe tbody tr th:only-of-type {\n",
       "        vertical-align: middle;\n",
       "    }\n",
       "\n",
       "    .dataframe tbody tr th {\n",
       "        vertical-align: top;\n",
       "    }\n",
       "\n",
       "    .dataframe thead th {\n",
       "        text-align: right;\n",
       "    }\n",
       "</style>\n",
       "<table border=\"1\" class=\"dataframe\">\n",
       "  <thead>\n",
       "    <tr style=\"text-align: right;\">\n",
       "      <th></th>\n",
       "      <th>origin_date</th>\n",
       "      <th>train_id</th>\n",
       "      <th>signal</th>\n",
       "      <th>signal_passing_time</th>\n",
       "      <th>planned_event_type</th>\n",
       "      <th>planned_event_location</th>\n",
       "      <th>planned_event_time</th>\n",
       "      <th>actual_event_time</th>\n",
       "      <th>STANOX</th>\n",
       "      <th>Location</th>\n",
       "    </tr>\n",
       "  </thead>\n",
       "  <tbody>\n",
       "    <tr>\n",
       "      <th>9609</th>\n",
       "      <td>2022-04-01</td>\n",
       "      <td>515S57M101</td>\n",
       "      <td>Q50348</td>\n",
       "      <td>2022-04-01 00:25:29+00:00</td>\n",
       "      <td>NaN</td>\n",
       "      <td>NaN</td>\n",
       "      <td>NaN</td>\n",
       "      <td>NaN</td>\n",
       "      <td>NaN</td>\n",
       "      <td>NaN</td>\n",
       "    </tr>\n",
       "    <tr>\n",
       "      <th>9669</th>\n",
       "      <td>2022-04-01</td>\n",
       "      <td>515S61M101</td>\n",
       "      <td>Q50348</td>\n",
       "      <td>2022-04-01 01:02:11+00:00</td>\n",
       "      <td>NaN</td>\n",
       "      <td>NaN</td>\n",
       "      <td>NaN</td>\n",
       "      <td>NaN</td>\n",
       "      <td>NaN</td>\n",
       "      <td>NaN</td>\n",
       "    </tr>\n",
       "    <tr>\n",
       "      <th>...</th>\n",
       "      <td>...</td>\n",
       "      <td>...</td>\n",
       "      <td>...</td>\n",
       "      <td>...</td>\n",
       "      <td>...</td>\n",
       "      <td>...</td>\n",
       "      <td>...</td>\n",
       "      <td>...</td>\n",
       "      <td>...</td>\n",
       "      <td>...</td>\n",
       "    </tr>\n",
       "    <tr>\n",
       "      <th>8591</th>\n",
       "      <td>2022-07-31</td>\n",
       "      <td>512B15M831</td>\n",
       "      <td>Q50348</td>\n",
       "      <td>2022-07-31 21:43:01+00:00</td>\n",
       "      <td>ARRIVAL</td>\n",
       "      <td>51004.0</td>\n",
       "      <td>2022-07-31 21:43:30+00:00</td>\n",
       "      <td>2022-07-31 21:43:43+00:00</td>\n",
       "      <td>51004.0</td>\n",
       "      <td>Thorpe Bay</td>\n",
       "    </tr>\n",
       "    <tr>\n",
       "      <th>8769</th>\n",
       "      <td>2022-07-31</td>\n",
       "      <td>512B171831</td>\n",
       "      <td>Q50348</td>\n",
       "      <td>2022-07-31 21:59:07+00:00</td>\n",
       "      <td>ARRIVAL</td>\n",
       "      <td>51004.0</td>\n",
       "      <td>2022-07-31 22:00:30+00:00</td>\n",
       "      <td>2022-07-31 21:59:49+00:00</td>\n",
       "      <td>51004.0</td>\n",
       "      <td>Thorpe Bay</td>\n",
       "    </tr>\n",
       "  </tbody>\n",
       "</table>\n",
       "<p>9095 rows × 10 columns</p>\n",
       "</div>"
      ],
      "text/plain": [
       "     origin_date    train_id  signal        signal_passing_time  \\\n",
       "9609  2022-04-01  515S57M101  Q50348  2022-04-01 00:25:29+00:00   \n",
       "9669  2022-04-01  515S61M101  Q50348  2022-04-01 01:02:11+00:00   \n",
       "...          ...         ...     ...                        ...   \n",
       "8591  2022-07-31  512B15M831  Q50348  2022-07-31 21:43:01+00:00   \n",
       "8769  2022-07-31  512B171831  Q50348  2022-07-31 21:59:07+00:00   \n",
       "\n",
       "     planned_event_type  planned_event_location         planned_event_time  \\\n",
       "9609                NaN                     NaN                        NaN   \n",
       "9669                NaN                     NaN                        NaN   \n",
       "...                 ...                     ...                        ...   \n",
       "8591            ARRIVAL                 51004.0  2022-07-31 21:43:30+00:00   \n",
       "8769            ARRIVAL                 51004.0  2022-07-31 22:00:30+00:00   \n",
       "\n",
       "              actual_event_time   STANOX    Location  \n",
       "9609                        NaN      NaN         NaN  \n",
       "9669                        NaN      NaN         NaN  \n",
       "...                         ...      ...         ...  \n",
       "8591  2022-07-31 21:43:43+00:00  51004.0  Thorpe Bay  \n",
       "8769  2022-07-31 21:59:49+00:00  51004.0  Thorpe Bay  \n",
       "\n",
       "[9095 rows x 10 columns]"
      ]
     },
     "execution_count": 11,
     "metadata": {},
     "output_type": "execute_result"
    }
   ],
   "source": [
    "pd.set_option('display.max_rows', 5)\n",
    "df.loc[df['signal']=='Q50348'].sort_values(by = 'signal_passing_time')"
   ]
  },
  {
   "cell_type": "markdown",
   "metadata": {},
   "source": [
    "Check one location"
   ]
  },
  {
   "cell_type": "code",
   "execution_count": 12,
   "metadata": {},
   "outputs": [
    {
     "data": {
      "text/html": [
       "<div>\n",
       "<style scoped>\n",
       "    .dataframe tbody tr th:only-of-type {\n",
       "        vertical-align: middle;\n",
       "    }\n",
       "\n",
       "    .dataframe tbody tr th {\n",
       "        vertical-align: top;\n",
       "    }\n",
       "\n",
       "    .dataframe thead th {\n",
       "        text-align: right;\n",
       "    }\n",
       "</style>\n",
       "<table border=\"1\" class=\"dataframe\">\n",
       "  <thead>\n",
       "    <tr style=\"text-align: right;\">\n",
       "      <th></th>\n",
       "      <th>origin_date</th>\n",
       "      <th>train_id</th>\n",
       "      <th>signal</th>\n",
       "      <th>signal_passing_time</th>\n",
       "      <th>planned_event_type</th>\n",
       "      <th>planned_event_location</th>\n",
       "      <th>planned_event_time</th>\n",
       "      <th>actual_event_time</th>\n",
       "      <th>STANOX</th>\n",
       "      <th>Location</th>\n",
       "    </tr>\n",
       "  </thead>\n",
       "  <tbody>\n",
       "    <tr>\n",
       "      <th>9521</th>\n",
       "      <td>2022-04-01</td>\n",
       "      <td>512Z001101</td>\n",
       "      <td>Q50353</td>\n",
       "      <td>2022-04-01 00:17:34+00:00</td>\n",
       "      <td>DESTINATION</td>\n",
       "      <td>51001.0</td>\n",
       "      <td>2022-04-01 00:19:00+00:00</td>\n",
       "      <td>2022-04-01 00:19:10+00:00</td>\n",
       "      <td>51001.0</td>\n",
       "      <td>Shoeburyness</td>\n",
       "    </tr>\n",
       "    <tr>\n",
       "      <th>9606</th>\n",
       "      <td>2022-04-01</td>\n",
       "      <td>515S57M101</td>\n",
       "      <td>Q5A354</td>\n",
       "      <td>2022-04-01 00:23:38+00:00</td>\n",
       "      <td>DEPARTURE</td>\n",
       "      <td>51001.0</td>\n",
       "      <td>2022-04-01 00:24:00+00:00</td>\n",
       "      <td>2022-04-01 00:23:15+00:00</td>\n",
       "      <td>51001.0</td>\n",
       "      <td>Shoeburyness</td>\n",
       "    </tr>\n",
       "    <tr>\n",
       "      <th>...</th>\n",
       "      <td>...</td>\n",
       "      <td>...</td>\n",
       "      <td>...</td>\n",
       "      <td>...</td>\n",
       "      <td>...</td>\n",
       "      <td>...</td>\n",
       "      <td>...</td>\n",
       "      <td>...</td>\n",
       "      <td>...</td>\n",
       "      <td>...</td>\n",
       "    </tr>\n",
       "    <tr>\n",
       "      <th>9154</th>\n",
       "      <td>2022-07-31</td>\n",
       "      <td>522B16M931</td>\n",
       "      <td>Q50353</td>\n",
       "      <td>2022-07-31 23:43:42+00:00</td>\n",
       "      <td>DESTINATION</td>\n",
       "      <td>51001.0</td>\n",
       "      <td>2022-07-31 23:46:00+00:00</td>\n",
       "      <td>2022-07-31 23:45:18+00:00</td>\n",
       "      <td>51001.0</td>\n",
       "      <td>Shoeburyness</td>\n",
       "    </tr>\n",
       "    <tr>\n",
       "      <th>9481</th>\n",
       "      <td>2022-08-01</td>\n",
       "      <td>515S25M001</td>\n",
       "      <td>Q5A354</td>\n",
       "      <td>2022-07-31 23:52:08+00:00</td>\n",
       "      <td>DEPARTURE</td>\n",
       "      <td>51001.0</td>\n",
       "      <td>2022-07-31 23:54:00+00:00</td>\n",
       "      <td>2022-07-31 23:51:51+00:00</td>\n",
       "      <td>51001.0</td>\n",
       "      <td>Shoeburyness</td>\n",
       "    </tr>\n",
       "  </tbody>\n",
       "</table>\n",
       "<p>21034 rows × 10 columns</p>\n",
       "</div>"
      ],
      "text/plain": [
       "     origin_date    train_id  signal        signal_passing_time  \\\n",
       "9521  2022-04-01  512Z001101  Q50353  2022-04-01 00:17:34+00:00   \n",
       "9606  2022-04-01  515S57M101  Q5A354  2022-04-01 00:23:38+00:00   \n",
       "...          ...         ...     ...                        ...   \n",
       "9154  2022-07-31  522B16M931  Q50353  2022-07-31 23:43:42+00:00   \n",
       "9481  2022-08-01  515S25M001  Q5A354  2022-07-31 23:52:08+00:00   \n",
       "\n",
       "     planned_event_type  planned_event_location         planned_event_time  \\\n",
       "9521        DESTINATION                 51001.0  2022-04-01 00:19:00+00:00   \n",
       "9606          DEPARTURE                 51001.0  2022-04-01 00:24:00+00:00   \n",
       "...                 ...                     ...                        ...   \n",
       "9154        DESTINATION                 51001.0  2022-07-31 23:46:00+00:00   \n",
       "9481          DEPARTURE                 51001.0  2022-07-31 23:54:00+00:00   \n",
       "\n",
       "              actual_event_time   STANOX      Location  \n",
       "9521  2022-04-01 00:19:10+00:00  51001.0  Shoeburyness  \n",
       "9606  2022-04-01 00:23:15+00:00  51001.0  Shoeburyness  \n",
       "...                         ...      ...           ...  \n",
       "9154  2022-07-31 23:45:18+00:00  51001.0  Shoeburyness  \n",
       "9481  2022-07-31 23:51:51+00:00  51001.0  Shoeburyness  \n",
       "\n",
       "[21034 rows x 10 columns]"
      ]
     },
     "execution_count": 12,
     "metadata": {},
     "output_type": "execute_result"
    }
   ],
   "source": [
    "pd.set_option('display.max_rows', 5)\n",
    "df.loc[df['planned_event_location']==51001.0].sort_values(by = 'signal_passing_time')\n"
   ]
  },
  {
   "cell_type": "markdown",
   "metadata": {},
   "source": [
    "------------------ Section 2: Investigate how number of trains varies over time. ------------------------"
   ]
  },
  {
   "cell_type": "code",
   "execution_count": 13,
   "metadata": {},
   "outputs": [],
   "source": [
    "#convert timestamps to datetime in BST timezone\n",
    "for time_stamp in ['signal_passing_time','planned_event_time','actual_event_time']:\n",
    "    df[time_stamp] = pd.to_datetime(df[time_stamp]).dt.tz_convert('Europe/London')"
   ]
  },
  {
   "cell_type": "markdown",
   "metadata": {},
   "source": [
    "Create Table with one row per train, with earliest signal passing time for each train:"
   ]
  },
  {
   "cell_type": "code",
   "execution_count": 82,
   "metadata": {},
   "outputs": [
    {
     "data": {
      "text/html": [
       "<div>\n",
       "<style scoped>\n",
       "    .dataframe tbody tr th:only-of-type {\n",
       "        vertical-align: middle;\n",
       "    }\n",
       "\n",
       "    .dataframe tbody tr th {\n",
       "        vertical-align: top;\n",
       "    }\n",
       "\n",
       "    .dataframe thead th {\n",
       "        text-align: right;\n",
       "    }\n",
       "</style>\n",
       "<table border=\"1\" class=\"dataframe\">\n",
       "  <thead>\n",
       "    <tr style=\"text-align: right;\">\n",
       "      <th></th>\n",
       "      <th>origin_date</th>\n",
       "      <th>train_id</th>\n",
       "      <th>signal</th>\n",
       "      <th>signal_passing_time</th>\n",
       "      <th>planned_event_type</th>\n",
       "      <th>planned_event_location</th>\n",
       "      <th>planned_event_time</th>\n",
       "      <th>actual_event_time</th>\n",
       "      <th>STANOX</th>\n",
       "      <th>Location</th>\n",
       "    </tr>\n",
       "  </thead>\n",
       "  <tbody>\n",
       "    <tr>\n",
       "      <th>94417</th>\n",
       "      <td>2022-04-05</td>\n",
       "      <td>522D22MG05</td>\n",
       "      <td>Q50167</td>\n",
       "      <td>2022-04-05 10:25:32+01:00</td>\n",
       "      <td>DEPARTURE</td>\n",
       "      <td>51531.0</td>\n",
       "      <td>2022-04-05 10:25:30+01:00</td>\n",
       "      <td>2022-04-05 10:25:19+01:00</td>\n",
       "      <td>51531.0</td>\n",
       "      <td>Barking</td>\n",
       "    </tr>\n",
       "    <tr>\n",
       "      <th>270584</th>\n",
       "      <td>2022-04-13</td>\n",
       "      <td>519Z531813</td>\n",
       "      <td>Q50334</td>\n",
       "      <td>2022-04-13 22:18:12+01:00</td>\n",
       "      <td>ARRIVAL</td>\n",
       "      <td>51007.0</td>\n",
       "      <td>2022-04-13 22:19:30+01:00</td>\n",
       "      <td>2022-04-13 22:18:50+01:00</td>\n",
       "      <td>51007.0</td>\n",
       "      <td>Southend Central</td>\n",
       "    </tr>\n",
       "    <tr>\n",
       "      <th>2160767</th>\n",
       "      <td>2022-07-14</td>\n",
       "      <td>511B01M514</td>\n",
       "      <td>Q50212</td>\n",
       "      <td>2022-07-14 06:14:39+01:00</td>\n",
       "      <td>DEPARTURE</td>\n",
       "      <td>51351.0</td>\n",
       "      <td>2022-07-14 06:15:00+01:00</td>\n",
       "      <td>2022-07-14 06:14:27+01:00</td>\n",
       "      <td>51351.0</td>\n",
       "      <td>Upminster</td>\n",
       "    </tr>\n",
       "  </tbody>\n",
       "</table>\n",
       "</div>"
      ],
      "text/plain": [
       "        origin_date    train_id  signal       signal_passing_time  \\\n",
       "94417    2022-04-05  522D22MG05  Q50167 2022-04-05 10:25:32+01:00   \n",
       "270584   2022-04-13  519Z531813  Q50334 2022-04-13 22:18:12+01:00   \n",
       "2160767  2022-07-14  511B01M514  Q50212 2022-07-14 06:14:39+01:00   \n",
       "\n",
       "        planned_event_type  planned_event_location        planned_event_time  \\\n",
       "94417            DEPARTURE                 51531.0 2022-04-05 10:25:30+01:00   \n",
       "270584             ARRIVAL                 51007.0 2022-04-13 22:19:30+01:00   \n",
       "2160767          DEPARTURE                 51351.0 2022-07-14 06:15:00+01:00   \n",
       "\n",
       "                actual_event_time   STANOX          Location  \n",
       "94417   2022-04-05 10:25:19+01:00  51531.0           Barking  \n",
       "270584  2022-04-13 22:18:50+01:00  51007.0  Southend Central  \n",
       "2160767 2022-07-14 06:14:27+01:00  51351.0         Upminster  "
      ]
     },
     "execution_count": 82,
     "metadata": {},
     "output_type": "execute_result"
    }
   ],
   "source": [
    "#filter for planned stops\n",
    "events_df = df[df['planned_event_type'].isin(['ARRIVAL','DESTINATION','DEPARTURE'])]\n",
    "events_df.sample(3)"
   ]
  },
  {
   "cell_type": "code",
   "execution_count": 83,
   "metadata": {},
   "outputs": [
    {
     "data": {
      "text/html": [
       "<div>\n",
       "<style scoped>\n",
       "    .dataframe tbody tr th:only-of-type {\n",
       "        vertical-align: middle;\n",
       "    }\n",
       "\n",
       "    .dataframe tbody tr th {\n",
       "        vertical-align: top;\n",
       "    }\n",
       "\n",
       "    .dataframe thead th {\n",
       "        text-align: right;\n",
       "    }\n",
       "</style>\n",
       "<table border=\"1\" class=\"dataframe\">\n",
       "  <thead>\n",
       "    <tr style=\"text-align: right;\">\n",
       "      <th></th>\n",
       "      <th></th>\n",
       "      <th>first_signal_passing_time</th>\n",
       "    </tr>\n",
       "    <tr>\n",
       "      <th>train_id</th>\n",
       "      <th>origin_date</th>\n",
       "      <th></th>\n",
       "    </tr>\n",
       "  </thead>\n",
       "  <tbody>\n",
       "    <tr>\n",
       "      <th>512D05MB15</th>\n",
       "      <th>2022-05-15</th>\n",
       "      <td>2022-05-15 08:43:51+01:00</td>\n",
       "    </tr>\n",
       "    <tr>\n",
       "      <th>512R89MH13</th>\n",
       "      <th>2022-07-13</th>\n",
       "      <td>2022-07-13 10:58:12+01:00</td>\n",
       "    </tr>\n",
       "    <tr>\n",
       "      <th>522D32ML15</th>\n",
       "      <th>2022-06-15</th>\n",
       "      <td>2022-06-15 12:41:27+01:00</td>\n",
       "    </tr>\n",
       "  </tbody>\n",
       "</table>\n",
       "</div>"
      ],
      "text/plain": [
       "                       first_signal_passing_time\n",
       "train_id   origin_date                          \n",
       "512D05MB15 2022-05-15  2022-05-15 08:43:51+01:00\n",
       "512R89MH13 2022-07-13  2022-07-13 10:58:12+01:00\n",
       "522D32ML15 2022-06-15  2022-06-15 12:41:27+01:00"
      ]
     },
     "execution_count": 83,
     "metadata": {},
     "output_type": "execute_result"
    }
   ],
   "source": [
    "#group by individual trains \n",
    "trains_df_temp = events_df[['train_id','origin_date','signal_passing_time']].groupby(by=['train_id','origin_date']).agg(first_signal_passing_time=('signal_passing_time',min))\n",
    "trains_df_temp.sample(3)"
   ]
  },
  {
   "cell_type": "markdown",
   "metadata": {},
   "source": [
    "Find first and last stops of each train"
   ]
  },
  {
   "cell_type": "code",
   "execution_count": 17,
   "metadata": {},
   "outputs": [],
   "source": [
    "#row number by stop order\n",
    "pd.options.mode.chained_assignment = None\n",
    "stop_order_df = events_df[['train_id','origin_date','planned_event_time','planned_event_type','actual_event_time','Location','signal_passing_time']]\n",
    "stop_order_df['stop_no_asc']=stop_order_df.sort_values(['actual_event_time'],ascending=True).groupby(['train_id','origin_date']).cumcount()+1\n",
    "stop_order_df['stop_no_desc']=stop_order_df.sort_values(['actual_event_time'],ascending=False).groupby(['train_id','origin_date']).cumcount()+1"
   ]
  },
  {
   "cell_type": "code",
   "execution_count": 18,
   "metadata": {},
   "outputs": [],
   "source": [
    "#filter columns\n",
    "col_list = ['train_id','origin_date','Location','planned_event_time','actual_event_time']\n",
    "first_stop_df = stop_order_df[col_list][(stop_order_df['stop_no_asc']==1)]\n",
    "last_stop_df = stop_order_df[col_list][(stop_order_df['stop_no_desc']==1)]"
   ]
  },
  {
   "cell_type": "code",
   "execution_count": 19,
   "metadata": {},
   "outputs": [],
   "source": [
    "#join first stops \n",
    "trains_df_temp2 = pd.merge(trains_df_temp,first_stop_df,how='left',on=['train_id','origin_date'])\n",
    "trains_df_temp2.rename(columns={'Location':'Origin_Location','planned_event_time':'planned_origin_depart_time','actual_event_time':'actual_origin_depart_time'},inplace=True)"
   ]
  },
  {
   "cell_type": "code",
   "execution_count": 20,
   "metadata": {},
   "outputs": [
    {
     "data": {
      "text/html": [
       "<div>\n",
       "<style scoped>\n",
       "    .dataframe tbody tr th:only-of-type {\n",
       "        vertical-align: middle;\n",
       "    }\n",
       "\n",
       "    .dataframe tbody tr th {\n",
       "        vertical-align: top;\n",
       "    }\n",
       "\n",
       "    .dataframe thead th {\n",
       "        text-align: right;\n",
       "    }\n",
       "</style>\n",
       "<table border=\"1\" class=\"dataframe\">\n",
       "  <thead>\n",
       "    <tr style=\"text-align: right;\">\n",
       "      <th></th>\n",
       "      <th>train_id</th>\n",
       "      <th>origin_date</th>\n",
       "      <th>first_signal_passing_time</th>\n",
       "      <th>Origin_Location</th>\n",
       "      <th>planned_origin_depart_time</th>\n",
       "      <th>actual_origin_depart_time</th>\n",
       "      <th>Destination_Location</th>\n",
       "      <th>planned_dest_arrival_time</th>\n",
       "      <th>actual_dest_arrival_time</th>\n",
       "      <th>route</th>\n",
       "    </tr>\n",
       "  </thead>\n",
       "  <tbody>\n",
       "    <tr>\n",
       "      <th>18181</th>\n",
       "      <td>512J76MQ11</td>\n",
       "      <td>2022-05-11</td>\n",
       "      <td>2022-05-11 15:09:10+01:00</td>\n",
       "      <td>Barking</td>\n",
       "      <td>2022-05-11 15:09:00+01:00</td>\n",
       "      <td>2022-05-11 15:08:49+01:00</td>\n",
       "      <td>Barking Station Junction</td>\n",
       "      <td>2022-05-11 15:10:00+01:00</td>\n",
       "      <td>2022-05-11 15:10:24+01:00</td>\n",
       "      <td>Barking-&gt;Barking Station Junction</td>\n",
       "    </tr>\n",
       "    <tr>\n",
       "      <th>63567</th>\n",
       "      <td>722J97MW03</td>\n",
       "      <td>2022-04-03</td>\n",
       "      <td>2022-04-03 18:40:56+01:00</td>\n",
       "      <td>Barking Station Junction</td>\n",
       "      <td>2022-04-03 18:42:00+01:00</td>\n",
       "      <td>2022-04-03 18:41:23+01:00</td>\n",
       "      <td>Barking</td>\n",
       "      <td>2022-04-03 18:43:00+01:00</td>\n",
       "      <td>2022-04-03 18:43:15+01:00</td>\n",
       "      <td>Barking Station Junction-&gt;Barking</td>\n",
       "    </tr>\n",
       "  </tbody>\n",
       "</table>\n",
       "</div>"
      ],
      "text/plain": [
       "         train_id origin_date first_signal_passing_time  \\\n",
       "18181  512J76MQ11  2022-05-11 2022-05-11 15:09:10+01:00   \n",
       "63567  722J97MW03  2022-04-03 2022-04-03 18:40:56+01:00   \n",
       "\n",
       "                Origin_Location planned_origin_depart_time  \\\n",
       "18181                   Barking  2022-05-11 15:09:00+01:00   \n",
       "63567  Barking Station Junction  2022-04-03 18:42:00+01:00   \n",
       "\n",
       "      actual_origin_depart_time      Destination_Location  \\\n",
       "18181 2022-05-11 15:08:49+01:00  Barking Station Junction   \n",
       "63567 2022-04-03 18:41:23+01:00                   Barking   \n",
       "\n",
       "      planned_dest_arrival_time  actual_dest_arrival_time  \\\n",
       "18181 2022-05-11 15:10:00+01:00 2022-05-11 15:10:24+01:00   \n",
       "63567 2022-04-03 18:43:00+01:00 2022-04-03 18:43:15+01:00   \n",
       "\n",
       "                                   route  \n",
       "18181  Barking->Barking Station Junction  \n",
       "63567  Barking Station Junction->Barking  "
      ]
     },
     "execution_count": 20,
     "metadata": {},
     "output_type": "execute_result"
    }
   ],
   "source": [
    "#join last stops\n",
    "trains_df = pd.merge(trains_df_temp2,last_stop_df,how='left',on=['train_id','origin_date'])\n",
    "trains_df.rename(columns={'Location':'Destination_Location','planned_event_time':'planned_dest_arrival_time','actual_event_time':'actual_dest_arrival_time'},inplace=True)\n",
    "trains_df['route']=trains_df['Origin_Location']+'->'+trains_df['Destination_Location']\n",
    "trains_df.sample(2)"
   ]
  },
  {
   "cell_type": "code",
   "execution_count": 21,
   "metadata": {},
   "outputs": [],
   "source": [
    "#extract hour, day, month, weekday from timestamp\n",
    "trains_df['depart_hour'] = trains_df['planned_origin_depart_time'].dt.hour\n",
    "trains_df['depart_week'] = trains_df['planned_origin_depart_time'].dt.isocalendar().week\n",
    "trains_df['depart_iso_year'] = trains_df['planned_origin_depart_time'].dt.isocalendar().year\n",
    "trains_df['depart_month'] = trains_df['planned_origin_depart_time'].dt.month\n",
    "trains_df['depart_weekday'] = trains_df['planned_origin_depart_time'].dt.day_name()"
   ]
  },
  {
   "cell_type": "code",
   "execution_count": 22,
   "metadata": {},
   "outputs": [],
   "source": [
    "#aggregate at hourly level\n",
    "departures_agg = trains_df.groupby(by=['depart_month','origin_date','depart_weekday','depart_hour','depart_week']).size().to_frame('n_trains').reset_index()"
   ]
  },
  {
   "cell_type": "code",
   "execution_count": 23,
   "metadata": {},
   "outputs": [],
   "source": [
    "#Add boolean column to distinguish weekdays from weekends\n",
    "departures_agg['is_weekday']=departures_agg['depart_weekday'].isin(['Monday','Tuesday','Wednesday','Thursday','Friday'])"
   ]
  },
  {
   "cell_type": "code",
   "execution_count": 84,
   "metadata": {},
   "outputs": [
    {
     "data": {
      "text/html": [
       "<div>\n",
       "<style scoped>\n",
       "    .dataframe tbody tr th:only-of-type {\n",
       "        vertical-align: middle;\n",
       "    }\n",
       "\n",
       "    .dataframe tbody tr th {\n",
       "        vertical-align: top;\n",
       "    }\n",
       "\n",
       "    .dataframe thead th {\n",
       "        text-align: right;\n",
       "    }\n",
       "</style>\n",
       "<table border=\"1\" class=\"dataframe\">\n",
       "  <thead>\n",
       "    <tr style=\"text-align: right;\">\n",
       "      <th></th>\n",
       "      <th>depart_month</th>\n",
       "      <th>origin_date</th>\n",
       "      <th>depart_weekday</th>\n",
       "      <th>depart_hour</th>\n",
       "      <th>depart_week</th>\n",
       "      <th>n_trains</th>\n",
       "      <th>is_weekday</th>\n",
       "    </tr>\n",
       "  </thead>\n",
       "  <tbody>\n",
       "    <tr>\n",
       "      <th>1145</th>\n",
       "      <td>5</td>\n",
       "      <td>2022-05-12</td>\n",
       "      <td>Thursday</td>\n",
       "      <td>13</td>\n",
       "      <td>19</td>\n",
       "      <td>26</td>\n",
       "      <td>Weekdays</td>\n",
       "    </tr>\n",
       "    <tr>\n",
       "      <th>264</th>\n",
       "      <td>4</td>\n",
       "      <td>2022-04-10</td>\n",
       "      <td>Sunday</td>\n",
       "      <td>8</td>\n",
       "      <td>14</td>\n",
       "      <td>12</td>\n",
       "      <td>Weekends</td>\n",
       "    </tr>\n",
       "    <tr>\n",
       "      <th>3263</th>\n",
       "      <td>7</td>\n",
       "      <td>2022-07-30</td>\n",
       "      <td>Saturday</td>\n",
       "      <td>1</td>\n",
       "      <td>30</td>\n",
       "      <td>6</td>\n",
       "      <td>Weekends</td>\n",
       "    </tr>\n",
       "  </tbody>\n",
       "</table>\n",
       "</div>"
      ],
      "text/plain": [
       "      depart_month origin_date depart_weekday  depart_hour  depart_week  \\\n",
       "1145             5  2022-05-12       Thursday           13           19   \n",
       "264              4  2022-04-10         Sunday            8           14   \n",
       "3263             7  2022-07-30       Saturday            1           30   \n",
       "\n",
       "      n_trains is_weekday  \n",
       "1145        26   Weekdays  \n",
       "264         12   Weekends  \n",
       "3263         6   Weekends  "
      ]
     },
     "execution_count": 84,
     "metadata": {},
     "output_type": "execute_result"
    }
   ],
   "source": [
    "#check rows\n",
    "departures_agg.sample(3)"
   ]
  },
  {
   "cell_type": "code",
   "execution_count": 25,
   "metadata": {},
   "outputs": [
    {
     "data": {
      "image/png": "[encoded data removed]",
      "text/plain": [
       "<Figure size 432x288 with 1 Axes>"
      ]
     },
     "metadata": {
      "needs_background": "light"
     },
     "output_type": "display_data"
    }
   ],
   "source": [
    "#visualise at hourly level\n",
    "import seaborn as sns\n",
    "import matplotlib.pyplot as plt\n",
    "ax = sns.barplot(data=departures_agg,x='depart_hour',y='n_trains',palette='crest',ci='sd')\n",
    "ax.set(xlabel='Origin Departure Hour', ylabel='Number of Trains',title ='Hourly Trains');"
   ]
  },
  {
   "cell_type": "markdown",
   "metadata": {},
   "source": [
    "Check weekdays vs weekends"
   ]
  },
  {
   "cell_type": "code",
   "execution_count": 26,
   "metadata": {},
   "outputs": [
    {
     "data": {
      "image/png": "[encoded data removed]",
      "text/plain": [
       "<Figure size 1152x288 with 2 Axes>"
      ]
     },
     "metadata": {
      "needs_background": "light"
     },
     "output_type": "display_data"
    }
   ],
   "source": [
    "import numpy as np\n",
    "#rename weekday column values\n",
    "departures_agg['is_weekday'] =  departures_agg['is_weekday'].replace({True:'Weekdays',False:'Weekends'})\n",
    "\n",
    "#plot visualisations\n",
    "g = sns.FacetGrid(data=departures_agg, col=\"is_weekday\", height=4,aspect=2)\n",
    "g.map(sns.barplot, 'depart_hour','n_trains',palette='crest',order=np.arange(24),ci='sd');\n",
    "g.set_axis_labels('Origin Departure Hour','Number of Trains');\n",
    "g.set_titles(col_template='{col_name}');\n"
   ]
  },
  {
   "cell_type": "markdown",
   "metadata": {},
   "source": [
    "Check weekly variation"
   ]
  },
  {
   "cell_type": "code",
   "execution_count": 85,
   "metadata": {},
   "outputs": [
    {
     "data": {
      "text/html": [
       "<div>\n",
       "<style scoped>\n",
       "    .dataframe tbody tr th:only-of-type {\n",
       "        vertical-align: middle;\n",
       "    }\n",
       "\n",
       "    .dataframe tbody tr th {\n",
       "        vertical-align: top;\n",
       "    }\n",
       "\n",
       "    .dataframe thead th {\n",
       "        text-align: right;\n",
       "    }\n",
       "</style>\n",
       "<table border=\"1\" class=\"dataframe\">\n",
       "  <thead>\n",
       "    <tr style=\"text-align: right;\">\n",
       "      <th></th>\n",
       "      <th>origin_date</th>\n",
       "      <th>n_trains</th>\n",
       "      <th>depart_weekday</th>\n",
       "    </tr>\n",
       "  </thead>\n",
       "  <tbody>\n",
       "    <tr>\n",
       "      <th>56</th>\n",
       "      <td>2022-05-26</td>\n",
       "      <td>655</td>\n",
       "      <td>Thursday</td>\n",
       "    </tr>\n",
       "    <tr>\n",
       "      <th>76</th>\n",
       "      <td>2022-06-15</td>\n",
       "      <td>671</td>\n",
       "      <td>Wednesday</td>\n",
       "    </tr>\n",
       "    <tr>\n",
       "      <th>45</th>\n",
       "      <td>2022-05-15</td>\n",
       "      <td>300</td>\n",
       "      <td>Sunday</td>\n",
       "    </tr>\n",
       "  </tbody>\n",
       "</table>\n",
       "</div>"
      ],
      "text/plain": [
       "   origin_date  n_trains depart_weekday\n",
       "56  2022-05-26       655       Thursday\n",
       "76  2022-06-15       671      Wednesday\n",
       "45  2022-05-15       300         Sunday"
      ]
     },
     "execution_count": 85,
     "metadata": {},
     "output_type": "execute_result"
    }
   ],
   "source": [
    "#Aggregate train level dataframe on day level \n",
    "departures_day_agg = trains_df.groupby(by='origin_date').size().to_frame('n_trains').reset_index()\n",
    "departures_day_agg['origin_date'] = pd.to_datetime(departures_day_agg['origin_date'])\n",
    "departures_day_agg['depart_weekday']=departures_day_agg['origin_date'].dt.day_name()\n",
    "departures_day_agg.sample(3)"
   ]
  },
  {
   "cell_type": "code",
   "execution_count": 86,
   "metadata": {},
   "outputs": [
    {
     "data": {
      "image/png": "[encoded data removed]",
      "text/plain": [
       "<Figure size 576x360 with 1 Axes>"
      ]
     },
     "metadata": {
      "needs_background": "light"
     },
     "output_type": "display_data"
    }
   ],
   "source": [
    "#visualise\n",
    "fig = plt.figure(figsize=(8,5))\n",
    "ax = sns.barplot(data=departures_day_agg,x='depart_weekday',y='n_trains',palette='crest',order=['Sunday','Monday','Tuesday','Wednesday','Thursday','Friday','Saturday']);\n",
    "ax.set(xlabel='Origin Departure day', ylabel='Number of Trains',title ='Daily Trains');"
   ]
  },
  {
   "cell_type": "markdown",
   "metadata": {},
   "source": [
    "------------------------------- Section 3: Check for Data Outages -----------------------------------------"
   ]
  },
  {
   "cell_type": "code",
   "execution_count": 29,
   "metadata": {},
   "outputs": [],
   "source": [
    "#row number by signal passing time\n",
    "sorted_df = df.sort_values(by='signal_passing_time').reset_index()[['signal_passing_time','train_id']]\n",
    "sorted_df['row_no'] = sorted_df.index\n",
    "sorted_df['row_no_plus_1'] = sorted_df['row_no']+1"
   ]
  },
  {
   "cell_type": "code",
   "execution_count": 30,
   "metadata": {},
   "outputs": [],
   "source": [
    "# join with row below to get next signal time\n",
    "gap_between_signals_df = pd.merge(sorted_df,sorted_df,left_on='row_no',right_on='row_no_plus_1',how='left')"
   ]
  },
  {
   "cell_type": "code",
   "execution_count": 31,
   "metadata": {},
   "outputs": [],
   "source": [
    "# calculate gap between signals\n",
    "gap_between_signals_df['gap']=gap_between_signals_df['signal_passing_time_x']-gap_between_signals_df['signal_passing_time_y']"
   ]
  },
  {
   "cell_type": "code",
   "execution_count": 32,
   "metadata": {},
   "outputs": [],
   "source": [
    "#convert to minutes\n",
    "longest_gaps['gap_hours']=longest_gaps['gap'].dt.seconds/3600"
   ]
  },
  {
   "cell_type": "code",
   "execution_count": 33,
   "metadata": {},
   "outputs": [
    {
     "data": {
      "text/plain": [
       "Text(0.5, 1.0, 'Largest Gaps between Recorded Signal Passes')"
      ]
     },
     "execution_count": 33,
     "metadata": {},
     "output_type": "execute_result"
    },
    {
     "data": {
      "image/png": "[encoded data removed]",
      "text/plain": [
       "<Figure size 576x360 with 1 Axes>"
      ]
     },
     "metadata": {
      "needs_background": "light"
     },
     "output_type": "display_data"
    }
   ],
   "source": [
    "#visualise\n",
    "plt.figure(figsize=(8,5))\n",
    "ax = sns.barplot(data=longest_gaps,y='signal_passing_time_y',x='gap_hours',orient='h',palette='crest')\n",
    "ax.set_ylabel('last recorded signal passing time')\n",
    "ax.set_xlabel('gap (hours)')\n",
    "ax.set_title('Largest Gaps between Recorded Signal Passes')"
   ]
  },
  {
   "cell_type": "markdown",
   "metadata": {},
   "source": [
    "------------------ Section 4: Check impact of strikes on week of 20th of June ----------------------------------------"
   ]
  },
  {
   "cell_type": "code",
   "execution_count": 88,
   "metadata": {},
   "outputs": [],
   "source": [
    "#filter to dates affected\n",
    "strike_data = departures_day_agg[departures_day_agg['origin_date'].between(pd.to_datetime('2022-06-6'),pd.to_datetime('2022-07-11'))]\n"
   ]
  },
  {
   "cell_type": "code",
   "execution_count": 89,
   "metadata": {},
   "outputs": [
    {
     "data": {
      "image/png": "[encoded data removed]",
      "text/plain": [
       "<Figure size 576x360 with 1 Axes>"
      ]
     },
     "metadata": {
      "needs_background": "light"
     },
     "output_type": "display_data"
    }
   ],
   "source": [
    "fig = plt.figure(figsize=(8,5))\n",
    "g = sns.barplot(data=strike_data,x='origin_date',y='n_trains',palette='crest')\n",
    "g.set(xlabel='Origin Departure day', ylabel='Number of Trains',title ='Daily Trains over Strikes')\n",
    "g.set_xticklabels(strike_data['origin_date'].dt.date)\n",
    "plt.xticks(rotation=90);"
   ]
  },
  {
   "cell_type": "markdown",
   "metadata": {},
   "source": [
    "Plot weekly "
   ]
  },
  {
   "cell_type": "code",
   "execution_count": 90,
   "metadata": {},
   "outputs": [],
   "source": [
    "#aggregate by week\n",
    "trains_week_agg = trains_df.groupby(by=['depart_week','depart_iso_year']).size().to_frame('n_trains').reset_index()\n"
   ]
  },
  {
   "cell_type": "code",
   "execution_count": 39,
   "metadata": {},
   "outputs": [
    {
     "data": {
      "image/png": "[encoded data removed]",
      "text/plain": [
       "<Figure size 576x360 with 1 Axes>"
      ]
     },
     "metadata": {
      "needs_background": "light"
     },
     "output_type": "display_data"
    }
   ],
   "source": [
    "#remove first and last week due to data starting and ending mid week and visualise\n",
    "fig = plt.figure(figsize=(8,5))\n",
    "g = sns.lineplot(data=trains_week_agg[1:-1],x='depart_week',y='n_trains',palette='crest')\n",
    "g.set(xlabel='Origin Departure week', ylabel='Number of Trains',title ='Weekly Trains')\n",
    "plt.plot([25,25],[2000,5000],'--',color='red')\n",
    "plt.ylim([2200,4500]);\n",
    "plt.text(x=25.1,y=2400,s='Week of Strikes');"
   ]
  },
  {
   "cell_type": "markdown",
   "metadata": {},
   "source": [
    "Get Punctuality metrics"
   ]
  },
  {
   "cell_type": "markdown",
   "metadata": {},
   "source": [
    "Get planned arrival/destination for each train, and corresponding planned time for all stops"
   ]
  },
  {
   "cell_type": "code",
   "execution_count": 41,
   "metadata": {},
   "outputs": [],
   "source": [
    "#filter for arrivals and destinations\n",
    "arrivals_df = df[df['planned_event_type'].isin(['ARRIVAL','DESTINATION',])]\n",
    "arrivals_df =  arrivals_df[['origin_date','train_id','signal','Location','planned_event_time','actual_event_time']]"
   ]
  },
  {
   "cell_type": "code",
   "execution_count": 42,
   "metadata": {},
   "outputs": [],
   "source": [
    "#get punctuality metrics\n",
    "import datetime\n",
    "arrivals_df['On_time'] = arrivals_df['actual_event_time']-arrivals_df['planned_event_time'] < datetime.timedelta(minutes=1)\n",
    "arrivals_df['On_time_15'] = arrivals_df['actual_event_time']-arrivals_df['planned_event_time'] < datetime.timedelta(minutes=15)"
   ]
  },
  {
   "cell_type": "code",
   "execution_count": 91,
   "metadata": {},
   "outputs": [
    {
     "data": {
      "text/html": [
       "<div>\n",
       "<style scoped>\n",
       "    .dataframe tbody tr th:only-of-type {\n",
       "        vertical-align: middle;\n",
       "    }\n",
       "\n",
       "    .dataframe tbody tr th {\n",
       "        vertical-align: top;\n",
       "    }\n",
       "\n",
       "    .dataframe thead th {\n",
       "        text-align: right;\n",
       "    }\n",
       "</style>\n",
       "<table border=\"1\" class=\"dataframe\">\n",
       "  <thead>\n",
       "    <tr style=\"text-align: right;\">\n",
       "      <th></th>\n",
       "      <th>origin_date</th>\n",
       "      <th>train_id</th>\n",
       "      <th>signal</th>\n",
       "      <th>Location</th>\n",
       "      <th>planned_event_time</th>\n",
       "      <th>actual_event_time</th>\n",
       "      <th>On_time</th>\n",
       "      <th>On_time_15</th>\n",
       "      <th>depart_week</th>\n",
       "      <th>depart_isoyear</th>\n",
       "    </tr>\n",
       "  </thead>\n",
       "  <tbody>\n",
       "    <tr>\n",
       "      <th>1749801</th>\n",
       "      <td>2022-06-24</td>\n",
       "      <td>522D381O24</td>\n",
       "      <td>Q50327</td>\n",
       "      <td>Southend Central</td>\n",
       "      <td>2022-06-24 15:24:00+01:00</td>\n",
       "      <td>2022-06-24 15:24:01+01:00</td>\n",
       "      <td>True</td>\n",
       "      <td>True</td>\n",
       "      <td>25</td>\n",
       "      <td>2022</td>\n",
       "    </tr>\n",
       "    <tr>\n",
       "      <th>1275235</th>\n",
       "      <td>2022-06-01</td>\n",
       "      <td>522B44M001</td>\n",
       "      <td>Q50327</td>\n",
       "      <td>Southend Central</td>\n",
       "      <td>2022-06-01 00:58:00+01:00</td>\n",
       "      <td>2022-06-01 01:02:29+01:00</td>\n",
       "      <td>False</td>\n",
       "      <td>True</td>\n",
       "      <td>22</td>\n",
       "      <td>2022</td>\n",
       "    </tr>\n",
       "    <tr>\n",
       "      <th>1511645</th>\n",
       "      <td>2022-06-11</td>\n",
       "      <td>529B20MN11</td>\n",
       "      <td>Q50285</td>\n",
       "      <td>Benfleet</td>\n",
       "      <td>2022-06-11 14:29:30+01:00</td>\n",
       "      <td>2022-06-11 14:29:29+01:00</td>\n",
       "      <td>True</td>\n",
       "      <td>True</td>\n",
       "      <td>23</td>\n",
       "      <td>2022</td>\n",
       "    </tr>\n",
       "  </tbody>\n",
       "</table>\n",
       "</div>"
      ],
      "text/plain": [
       "        origin_date    train_id  signal          Location  \\\n",
       "1749801  2022-06-24  522D381O24  Q50327  Southend Central   \n",
       "1275235  2022-06-01  522B44M001  Q50327  Southend Central   \n",
       "1511645  2022-06-11  529B20MN11  Q50285          Benfleet   \n",
       "\n",
       "               planned_event_time         actual_event_time  On_time  \\\n",
       "1749801 2022-06-24 15:24:00+01:00 2022-06-24 15:24:01+01:00     True   \n",
       "1275235 2022-06-01 00:58:00+01:00 2022-06-01 01:02:29+01:00    False   \n",
       "1511645 2022-06-11 14:29:30+01:00 2022-06-11 14:29:29+01:00     True   \n",
       "\n",
       "         On_time_15  depart_week  depart_isoyear  \n",
       "1749801        True           25            2022  \n",
       "1275235        True           22            2022  \n",
       "1511645        True           23            2022  "
      ]
     },
     "execution_count": 91,
     "metadata": {},
     "output_type": "execute_result"
    }
   ],
   "source": [
    "#extract datetime features\n",
    "arrivals_df['origin_date'] = pd.to_datetime(arrivals_df['origin_date'])\n",
    "arrivals_df['depart_week']= arrivals_df['origin_date'].dt.isocalendar().week\n",
    "arrivals_df['depart_isoyear']= arrivals_df['origin_date'].dt.isocalendar().year\n",
    "arrivals_df.sample(3)"
   ]
  },
  {
   "cell_type": "code",
   "execution_count": 46,
   "metadata": {},
   "outputs": [],
   "source": [
    "#aggregate by week\n",
    "stops_weekly_agg = arrivals_df.groupby(['depart_week','depart_isoyear']).agg(On_time = ('On_time',sum),On_time_15 = ('On_time_15',sum),n_stops = ('train_id',len))"
   ]
  },
  {
   "cell_type": "code",
   "execution_count": 47,
   "metadata": {},
   "outputs": [],
   "source": [
    "#calculate OTP metrics\n",
    "stops_weekly_agg['OTP'] = 100*stops_weekly_agg['On_time']/stops_weekly_agg['n_stops']\n",
    "stops_weekly_agg['OTP15'] = 100*stops_weekly_agg['On_time_15']/stops_weekly_agg['n_stops']\n",
    "stops_weekly_agg = stops_weekly_agg[1:-1]\n",
    "stops_weekly_agg.reset_index(inplace=True)"
   ]
  },
  {
   "cell_type": "code",
   "execution_count": 48,
   "metadata": {},
   "outputs": [],
   "source": [
    "#convert to plot friendly format\n",
    "OTP_plot_data = stops_weekly_agg[['depart_week','depart_isoyear','OTP','OTP15']].melt(['depart_week','depart_isoyear'])"
   ]
  },
  {
   "cell_type": "code",
   "execution_count": 49,
   "metadata": {},
   "outputs": [
    {
     "data": {
      "image/png": "[encoded data removed]",
      "text/plain": [
       "<Figure size 576x360 with 1 Axes>"
      ]
     },
     "metadata": {
      "needs_background": "light"
     },
     "output_type": "display_data"
    }
   ],
   "source": [
    "#visualise performance metrics\n",
    "fig = plt.figure(figsize=(8,5))\n",
    "g = sns.lineplot(data=OTP_plot_data,x='depart_week',y='value',hue='variable')\n",
    "g.set(xlabel='Origin Departure week', ylabel='On Time Performance',title ='Weekly On-Time Performance')\n",
    "plt.plot([25,25],[0,100],'--',color='r');\n",
    "plt.ylim([55,100]);\n",
    "plt.text(25.2,60,'Week of Strikes');\n"
   ]
  },
  {
   "cell_type": "markdown",
   "metadata": {},
   "source": [
    "------------------Section 5: Get distribution of running times: Pitsea to Benfleet-------------------------------"
   ]
  },
  {
   "cell_type": "code",
   "execution_count": 50,
   "metadata": {},
   "outputs": [],
   "source": [
    "#filter departures\n",
    "departures_df = events_df[events_df['planned_event_type']=='DEPARTURE']\n",
    "departures_df['origin_date'] = pd.to_datetime(departures_df['origin_date'])"
   ]
  },
  {
   "cell_type": "code",
   "execution_count": 51,
   "metadata": {},
   "outputs": [],
   "source": [
    "#join with arrivals to get stops dataframe\n",
    "stops_df = pd.merge(arrivals_df,departures_df,on=['train_id','origin_date','Location'],suffixes=('_arrvl','_dprt'))"
   ]
  },
  {
   "cell_type": "code",
   "execution_count": 52,
   "metadata": {},
   "outputs": [],
   "source": [
    "#Row number by stop to get STOP A -> STOP B in each row\n",
    "stops_df['stop_no_plus1']=stops_df.sort_values(by='signal_passing_time',ascending=True).groupby(by=['train_id','origin_date']).cumcount()+1\n",
    "stops_df['stop_no']= stops_df['stop_no_plus1']-1"
   ]
  },
  {
   "cell_type": "code",
   "execution_count": 53,
   "metadata": {},
   "outputs": [],
   "source": [
    "#filter columns and join\n",
    "col_list = ['origin_date','train_id','Location','planned_event_time_arrvl','actual_event_time_arrvl'\n",
    "    ,'planned_event_time_dprt','actual_event_time_dprt','On_time','On_time_15','stop_no_plus1','stop_no']\n",
    "transit_times_df = pd.merge(stops_df[col_list],stops_df[col_list]\n",
    "    ,left_on=['train_id','origin_date','stop_no_plus1']\n",
    "    ,right_on=['train_id','origin_date','stop_no']\n",
    "    ,how='inner'\n",
    "    ,suffixes=('_orig','_dest'))"
   ]
  },
  {
   "cell_type": "code",
   "execution_count": 54,
   "metadata": {},
   "outputs": [],
   "source": [
    "#calculate running times\n",
    "transit_times_df['transit_time'] = transit_times_df['actual_event_time_arrvl_dest'] - transit_times_df['actual_event_time_dprt_orig']\n",
    "transit_times_df['planned_transit_time'] = transit_times_df['planned_event_time_arrvl_dest'] - transit_times_df['planned_event_time_dprt_orig']\n",
    "transit_times_df['within_running_time'] = transit_times_df['transit_time']<transit_times_df['planned_transit_time']"
   ]
  },
  {
   "cell_type": "code",
   "execution_count": 55,
   "metadata": {},
   "outputs": [],
   "source": [
    "#filter to Pitsea and Benfleet\n",
    "pitsea_to_bnflt = transit_times_df[(transit_times_df['Location_orig']=='Pitsea')&(transit_times_df['Location_dest']=='Benfleet')]\n",
    "\n",
    "for col in ['transit_time','planned_transit_time']:\n",
    "    pitsea_to_bnflt[col]=pitsea_to_bnflt[col].dt.seconds/60"
   ]
  },
  {
   "cell_type": "code",
   "execution_count": 92,
   "metadata": {},
   "outputs": [
    {
     "data": {
      "image/png": "[encoded data removed]",
      "text/plain": [
       "<Figure size 432x288 with 1 Axes>"
      ]
     },
     "metadata": {
      "needs_background": "light"
     },
     "output_type": "display_data"
    }
   ],
   "source": [
    "#visualise distribution\n",
    "sns.histplot(pitsea_to_bnflt,x = 'transit_time')\n",
    "plt.xlim(2,5);\n",
    "plt.xlabel('Running time');\n",
    "plt.ylabel('No of Trains');"
   ]
  },
  {
   "cell_type": "code",
   "execution_count": 57,
   "metadata": {},
   "outputs": [],
   "source": [
    "#extract datetime features from origin depart time\n",
    "pitsea_to_bnflt['planned_orig_depart_hour'] = pitsea_to_bnflt['planned_event_time_dprt_orig'].dt.hour\n",
    "pitsea_to_bnflt['planned_orig_depart_day'] = pitsea_to_bnflt['planned_event_time_dprt_orig'].dt.day_name()\n",
    "pitsea_to_bnflt['planned_orig_depart_day_no'] = pitsea_to_bnflt['planned_event_time_dprt_orig'].dt.weekday\n",
    "pitsea_to_bnflt['is_rush_hour'] = pitsea_to_bnflt['planned_orig_depart_day'].isin(['Monday','Tuesday','Wednesday','Thursday','Friday'])&(pitsea_to_bnflt['planned_orig_depart_hour'].isin([7,8,17,18,19]))"
   ]
  },
  {
   "cell_type": "code",
   "execution_count": 58,
   "metadata": {},
   "outputs": [],
   "source": [
    "#get hourly train frequency \n",
    "train_freq_hourly = pitsea_to_bnflt.groupby(by=['origin_date','planned_orig_depart_hour']).size().to_frame('hourly_trains')\n",
    "#join hourly train frequency\n",
    "pitsea_to_bnflt = pd.merge(pitsea_to_bnflt,train_freq_hourly,how='left',on=['origin_date','planned_orig_depart_hour'])"
   ]
  },
  {
   "cell_type": "code",
   "execution_count": 59,
   "metadata": {},
   "outputs": [],
   "source": [
    "#row number by arrival time at destination station \n",
    "pitsea_to_bnflt_temp = pitsea_to_bnflt[['actual_event_time_arrvl_dest','Location_dest']]\n",
    "pitsea_to_bnflt_temp['row_no_plus_1'] = pitsea_to_bnflt_temp.sort_values(by='actual_event_time_arrvl_dest',ascending=True).groupby(by='Location_dest').cumcount()+1\n",
    "#row number plus 1\n",
    "pitsea_to_bnflt['row_no'] = pitsea_to_bnflt.sort_values(by='actual_event_time_arrvl_dest',ascending=True).groupby(by='Location_dest').cumcount()\n",
    "#join to get time of previous train\n",
    "pitsea_to_bnflt = pd.merge(pitsea_to_bnflt,pitsea_to_bnflt_temp,how='inner',left_on=['row_no'],right_on=['row_no_plus_1'],suffixes=['','_prev_train'])\n",
    "#calculate gap to previous train\n",
    "pitsea_to_bnflt['gap_from_prev_train'] = pitsea_to_bnflt['actual_event_time_arrvl_dest']-pitsea_to_bnflt['actual_event_time_arrvl_dest_prev_train']\n",
    "#convert to minnutes\n",
    "pitsea_to_bnflt['gap_from_prev_train'] = pitsea_to_bnflt['gap_from_prev_train'].dt.seconds/60"
   ]
  },
  {
   "cell_type": "code",
   "execution_count": 93,
   "metadata": {},
   "outputs": [
    {
     "data": {
      "text/html": [
       "<div>\n",
       "<style scoped>\n",
       "    .dataframe tbody tr th:only-of-type {\n",
       "        vertical-align: middle;\n",
       "    }\n",
       "\n",
       "    .dataframe tbody tr th {\n",
       "        vertical-align: top;\n",
       "    }\n",
       "\n",
       "    .dataframe thead th {\n",
       "        text-align: right;\n",
       "    }\n",
       "</style>\n",
       "<table border=\"1\" class=\"dataframe\">\n",
       "  <thead>\n",
       "    <tr style=\"text-align: right;\">\n",
       "      <th></th>\n",
       "      <th>actual_event_time_arrvl_dest</th>\n",
       "      <th>actual_event_time_arrvl_dest_prev_train</th>\n",
       "      <th>gap_from_prev_train</th>\n",
       "    </tr>\n",
       "  </thead>\n",
       "  <tbody>\n",
       "    <tr>\n",
       "      <th>9437</th>\n",
       "      <td>2022-07-16 21:54:58+01:00</td>\n",
       "      <td>2022-07-16 21:42:50+01:00</td>\n",
       "      <td>12.133333</td>\n",
       "    </tr>\n",
       "    <tr>\n",
       "      <th>10466</th>\n",
       "      <td>2022-07-28 16:38:42+01:00</td>\n",
       "      <td>2022-07-28 16:28:42+01:00</td>\n",
       "      <td>10.000000</td>\n",
       "    </tr>\n",
       "    <tr>\n",
       "      <th>1006</th>\n",
       "      <td>2022-04-11 19:15:17+01:00</td>\n",
       "      <td>2022-04-11 19:08:37+01:00</td>\n",
       "      <td>6.666667</td>\n",
       "    </tr>\n",
       "  </tbody>\n",
       "</table>\n",
       "</div>"
      ],
      "text/plain": [
       "      actual_event_time_arrvl_dest actual_event_time_arrvl_dest_prev_train  \\\n",
       "9437     2022-07-16 21:54:58+01:00               2022-07-16 21:42:50+01:00   \n",
       "10466    2022-07-28 16:38:42+01:00               2022-07-28 16:28:42+01:00   \n",
       "1006     2022-04-11 19:15:17+01:00               2022-04-11 19:08:37+01:00   \n",
       "\n",
       "       gap_from_prev_train  \n",
       "9437             12.133333  \n",
       "10466            10.000000  \n",
       "1006              6.666667  "
      ]
     },
     "execution_count": 93,
     "metadata": {},
     "output_type": "execute_result"
    }
   ],
   "source": [
    "#check output\n",
    "pitsea_to_bnflt[['actual_event_time_arrvl_dest','actual_event_time_arrvl_dest_prev_train','gap_from_prev_train']].sample(3)"
   ]
  },
  {
   "cell_type": "code",
   "execution_count": 61,
   "metadata": {},
   "outputs": [
    {
     "data": {
      "text/plain": [
       "Index(['origin_date', 'train_id', 'Location_orig',\n",
       "       'planned_event_time_arrvl_orig', 'actual_event_time_arrvl_orig',\n",
       "       'planned_event_time_dprt_orig', 'actual_event_time_dprt_orig',\n",
       "       'On_time_orig', 'On_time_15_orig', 'stop_no_plus1_orig', 'stop_no_orig',\n",
       "       'Location_dest', 'planned_event_time_arrvl_dest',\n",
       "       'actual_event_time_arrvl_dest', 'planned_event_time_dprt_dest',\n",
       "       'actual_event_time_dprt_dest', 'On_time_dest', 'On_time_15_dest',\n",
       "       'stop_no_plus1_dest', 'stop_no_dest', 'transit_time',\n",
       "       'planned_transit_time', 'within_running_time',\n",
       "       'planned_orig_depart_hour', 'planned_orig_depart_day',\n",
       "       'planned_orig_depart_day_no', 'is_rush_hour', 'hourly_trains', 'row_no',\n",
       "       'actual_event_time_arrvl_dest_prev_train', 'Location_dest_prev_train',\n",
       "       'row_no_plus_1', 'gap_from_prev_train', 'route'],\n",
       "      dtype='object')"
      ]
     },
     "execution_count": 61,
     "metadata": {},
     "output_type": "execute_result"
    }
   ],
   "source": [
    "#join previous dataframe to get lane\n",
    "pitsea_to_bnflt['origin_date'] = pd.to_datetime(pitsea_to_bnflt['origin_date'] )\n",
    "trains_df['origin_date'] = pd.to_datetime(trains_df['origin_date'] )\n",
    "pitsea_to_bnflt = pd.merge(pitsea_to_bnflt,trains_df[['train_id','origin_date','route']],how='left',on=['train_id','origin_date'])\n",
    "#show list of columns\n",
    "pitsea_to_bnflt.columns"
   ]
  },
  {
   "cell_type": "markdown",
   "metadata": {},
   "source": [
    "Test feature importance, using Random Forest regressor"
   ]
  },
  {
   "cell_type": "code",
   "execution_count": 62,
   "metadata": {},
   "outputs": [],
   "source": [
    "#define list of features\n",
    "feature_list = ['planned_orig_depart_hour','On_time_orig', 'On_time_15_orig',\n",
    "         'is_rush_hour', 'hourly_trains', 'gap_from_prev_train','planned_orig_depart_hour','planned_orig_depart_day_no']"
   ]
  },
  {
   "cell_type": "code",
   "execution_count": 63,
   "metadata": {},
   "outputs": [],
   "source": [
    "#split data into train and test set\n",
    "from sklearn.model_selection import train_test_split\n",
    "\n",
    "y = pitsea_to_bnflt['transit_time']\n",
    "X_train, X_test, y_train, y_test = train_test_split(pitsea_to_bnflt[feature_list], pitsea_to_bnflt['transit_time'], random_state=42)"
   ]
  },
  {
   "cell_type": "code",
   "execution_count": 94,
   "metadata": {},
   "outputs": [],
   "source": [
    "#fit random forest regressor\n",
    "from sklearn.ensemble import RandomForestRegressor\n",
    "forest = RandomForestRegressor(random_state=0)\n",
    "forest.fit(X_train, y_train);\n"
   ]
  },
  {
   "cell_type": "code",
   "execution_count": 67,
   "metadata": {},
   "outputs": [],
   "source": [
    "#get feature importances\n",
    "from sklearn.inspection import permutation_importance\n",
    "result = permutation_importance(\n",
    "    forest, X_test, y_test, n_repeats=10, random_state=42, n_jobs=2\n",
    ")\n",
    "forest_importances = pd.Series(result.importances_mean, index=feature_list)"
   ]
  },
  {
   "cell_type": "code",
   "execution_count": 68,
   "metadata": {},
   "outputs": [
    {
     "data": {
      "image/png": "[encoded data removed]",
      "text/plain": [
       "<Figure size 432x432 with 1 Axes>"
      ]
     },
     "metadata": {
      "needs_background": "light"
     },
     "output_type": "display_data"
    }
   ],
   "source": [
    "#plot feature importances\n",
    "fig, ax = plt.subplots(figsize=(6,6))\n",
    "forest_importances.plot.bar(yerr=result.importances_std, ax=ax)\n",
    "ax.set_title(\"Feature importances using permutation on full model\")\n",
    "ax.set_ylabel(\"Mean accuracy decrease\")\n",
    "fig.tight_layout()\n",
    "labels = [item.get_text() for item in ax.get_xticklabels()]\n",
    "labels[6] = 'departure hour'\n",
    "labels[7] = 'weekday'\n",
    "\n",
    "ax.set_xticklabels(labels)\n",
    "plt.show()"
   ]
  },
  {
   "cell_type": "markdown",
   "metadata": {},
   "source": [
    "Plot gap from prev train"
   ]
  },
  {
   "cell_type": "code",
   "execution_count": 95,
   "metadata": {},
   "outputs": [
    {
     "data": {
      "image/png": "[encoded data removed]",
      "text/plain": [
       "<Figure size 432x288 with 1 Axes>"
      ]
     },
     "metadata": {
      "needs_background": "light"
     },
     "output_type": "display_data"
    }
   ],
   "source": [
    "#plot gap vs running time\n",
    "g = sns.lineplot(x=pitsea_to_bnflt['gap_from_prev_train'],y=pitsea_to_bnflt['transit_time'],ci='sd')\n",
    "plt.xlim(0,8)\n",
    "plt.ylim(2,5)\n",
    "plt.ylabel('Running Time');"
   ]
  },
  {
   "cell_type": "code",
   "execution_count": 96,
   "metadata": {},
   "outputs": [
    {
     "data": {
      "image/png": "[encoded data removed]",
      "text/plain": [
       "<Figure size 431.125x360 with 1 Axes>"
      ]
     },
     "metadata": {
      "needs_background": "light"
     },
     "output_type": "display_data"
    }
   ],
   "source": [
    "#plot distributino with rush hour\n",
    "sns.displot(pitsea_to_bnflt,x = 'transit_time', hue='is_rush_hour')\n",
    "plt.xlim(2,5);"
   ]
  },
  {
   "cell_type": "code",
   "execution_count": 97,
   "metadata": {},
   "outputs": [
    {
     "data": {
      "image/png": "[encoded data removed]",
      "text/plain": [
       "<Figure size 473.5x360 with 1 Axes>"
      ]
     },
     "metadata": {
      "needs_background": "light"
     },
     "output_type": "display_data"
    }
   ],
   "source": [
    "#plot distribution with planned transit time\n",
    "sns.displot(pitsea_to_bnflt[pitsea_to_bnflt['planned_transit_time'].isin([2.5,3,3.5])],x = 'transit_time', hue='planned_transit_time')\n",
    "plt.xlim(2,5);"
   ]
  },
  {
   "cell_type": "code",
   "execution_count": 72,
   "metadata": {},
   "outputs": [
    {
     "name": "stdout",
     "output_type": "stream",
     "text": [
      "percent of trains within running time is 33.80%\n"
     ]
    }
   ],
   "source": [
    "#Calculate percentage within running time\n",
    "percent_under_planned_running_time = 100*pitsea_to_bnflt['within_running_time'].sum()/len(pitsea_to_bnflt)\n",
    "print(f'percent of trains within running time is {percent_under_planned_running_time:.2f}%')"
   ]
  },
  {
   "cell_type": "markdown",
   "metadata": {},
   "source": [
    "------------------------- Section 6: Further Opportunities --------------------------------------------------------"
   ]
  },
  {
   "cell_type": "markdown",
   "metadata": {},
   "source": [
    "Calculate top offending stops over running time"
   ]
  },
  {
   "cell_type": "code",
   "execution_count": 73,
   "metadata": {},
   "outputs": [],
   "source": [
    "#aggregate by origin and destination stop\n",
    "transit_times_stops_agg = transit_times_df.groupby(by=['Location_orig','Location_dest']).agg(within_running_time=('within_running_time',sum),n_stops = ('train_id',len))"
   ]
  },
  {
   "cell_type": "code",
   "execution_count": 98,
   "metadata": {},
   "outputs": [],
   "source": [
    "#rest index\n",
    "transit_times_stops_agg.reset_index(inplace=True)"
   ]
  },
  {
   "cell_type": "code",
   "execution_count": 75,
   "metadata": {},
   "outputs": [],
   "source": [
    "#calculate perecent of stops on time, and number of misses\n",
    "transit_times_stops_agg['percent_with_running_time'] = 100*transit_times_stops_agg['within_running_time']/transit_times_stops_agg['n_stops']\n",
    "transit_times_stops_agg['run_time_misses']= transit_times_stops_agg['n_stops'] - transit_times_stops_agg['within_running_time']"
   ]
  },
  {
   "cell_type": "code",
   "execution_count": 76,
   "metadata": {},
   "outputs": [
    {
     "data": {
      "text/html": [
       "<div>\n",
       "<style scoped>\n",
       "    .dataframe tbody tr th:only-of-type {\n",
       "        vertical-align: middle;\n",
       "    }\n",
       "\n",
       "    .dataframe tbody tr th {\n",
       "        vertical-align: top;\n",
       "    }\n",
       "\n",
       "    .dataframe thead th {\n",
       "        text-align: right;\n",
       "    }\n",
       "</style>\n",
       "<table border=\"1\" class=\"dataframe\">\n",
       "  <thead>\n",
       "    <tr style=\"text-align: right;\">\n",
       "      <th></th>\n",
       "      <th>Location_orig</th>\n",
       "      <th>Location_dest</th>\n",
       "      <th>within_running_time</th>\n",
       "      <th>n_stops</th>\n",
       "      <th>percent_with_running_time</th>\n",
       "      <th>run_time_misses</th>\n",
       "    </tr>\n",
       "  </thead>\n",
       "  <tbody>\n",
       "    <tr>\n",
       "      <th>93</th>\n",
       "      <td>West Ham High Level</td>\n",
       "      <td>Barking</td>\n",
       "      <td>1636</td>\n",
       "      <td>15505</td>\n",
       "      <td>10.551435</td>\n",
       "      <td>13869</td>\n",
       "    </tr>\n",
       "    <tr>\n",
       "      <th>8</th>\n",
       "      <td>Barking</td>\n",
       "      <td>West Ham High Level</td>\n",
       "      <td>2728</td>\n",
       "      <td>15335</td>\n",
       "      <td>17.789371</td>\n",
       "      <td>12607</td>\n",
       "    </tr>\n",
       "    <tr>\n",
       "      <th>27</th>\n",
       "      <td>Chalkwell</td>\n",
       "      <td>Westcliff</td>\n",
       "      <td>58</td>\n",
       "      <td>10803</td>\n",
       "      <td>0.536888</td>\n",
       "      <td>10745</td>\n",
       "    </tr>\n",
       "    <tr>\n",
       "      <th>41</th>\n",
       "      <td>Leigh-On-Sea</td>\n",
       "      <td>Chalkwell</td>\n",
       "      <td>118</td>\n",
       "      <td>10791</td>\n",
       "      <td>1.093504</td>\n",
       "      <td>10673</td>\n",
       "    </tr>\n",
       "    <tr>\n",
       "      <th>23</th>\n",
       "      <td>Chalkwell</td>\n",
       "      <td>Leigh-On-Sea</td>\n",
       "      <td>6</td>\n",
       "      <td>10299</td>\n",
       "      <td>0.058258</td>\n",
       "      <td>10293</td>\n",
       "    </tr>\n",
       "    <tr>\n",
       "      <th>17</th>\n",
       "      <td>Benfleet</td>\n",
       "      <td>Pitsea</td>\n",
       "      <td>904</td>\n",
       "      <td>10485</td>\n",
       "      <td>8.621841</td>\n",
       "      <td>9581</td>\n",
       "    </tr>\n",
       "    <tr>\n",
       "      <th>75</th>\n",
       "      <td>Southend Central</td>\n",
       "      <td>Southend East</td>\n",
       "      <td>32</td>\n",
       "      <td>8746</td>\n",
       "      <td>0.365882</td>\n",
       "      <td>8714</td>\n",
       "    </tr>\n",
       "    <tr>\n",
       "      <th>77</th>\n",
       "      <td>Southend Central</td>\n",
       "      <td>Westcliff</td>\n",
       "      <td>169</td>\n",
       "      <td>8215</td>\n",
       "      <td>2.057212</td>\n",
       "      <td>8046</td>\n",
       "    </tr>\n",
       "    <tr>\n",
       "      <th>83</th>\n",
       "      <td>Thorpe Bay</td>\n",
       "      <td>Southend East</td>\n",
       "      <td>308</td>\n",
       "      <td>7855</td>\n",
       "      <td>3.921069</td>\n",
       "      <td>7547</td>\n",
       "    </tr>\n",
       "    <tr>\n",
       "      <th>59</th>\n",
       "      <td>Pitsea</td>\n",
       "      <td>Benfleet</td>\n",
       "      <td>3636</td>\n",
       "      <td>10758</td>\n",
       "      <td>33.798104</td>\n",
       "      <td>7122</td>\n",
       "    </tr>\n",
       "  </tbody>\n",
       "</table>\n",
       "</div>"
      ],
      "text/plain": [
       "          Location_orig        Location_dest  within_running_time  n_stops  \\\n",
       "93  West Ham High Level              Barking                 1636    15505   \n",
       "8               Barking  West Ham High Level                 2728    15335   \n",
       "27            Chalkwell            Westcliff                   58    10803   \n",
       "41         Leigh-On-Sea            Chalkwell                  118    10791   \n",
       "23            Chalkwell         Leigh-On-Sea                    6    10299   \n",
       "17             Benfleet               Pitsea                  904    10485   \n",
       "75     Southend Central        Southend East                   32     8746   \n",
       "77     Southend Central            Westcliff                  169     8215   \n",
       "83           Thorpe Bay        Southend East                  308     7855   \n",
       "59               Pitsea             Benfleet                 3636    10758   \n",
       "\n",
       "    percent_with_running_time  run_time_misses  \n",
       "93                  10.551435            13869  \n",
       "8                   17.789371            12607  \n",
       "27                   0.536888            10745  \n",
       "41                   1.093504            10673  \n",
       "23                   0.058258            10293  \n",
       "17                   8.621841             9581  \n",
       "75                   0.365882             8714  \n",
       "77                   2.057212             8046  \n",
       "83                   3.921069             7547  \n",
       "59                  33.798104             7122  "
      ]
     },
     "execution_count": 76,
     "metadata": {},
     "output_type": "execute_result"
    }
   ],
   "source": [
    "#show stops with highest number of misses\n",
    "transit_times_stops_agg.sort_values(by='run_time_misses',ascending=False).head(10)"
   ]
  },
  {
   "cell_type": "markdown",
   "metadata": {},
   "source": [
    "Get punctuality metrics"
   ]
  },
  {
   "cell_type": "code",
   "execution_count": 77,
   "metadata": {},
   "outputs": [],
   "source": [
    "#join train data frame to get route\n",
    "stops_df = pd.merge(stops_df,trains_df[['train_id','origin_date','route']],on=['train_id','origin_date'],how='left')"
   ]
  },
  {
   "cell_type": "code",
   "execution_count": 78,
   "metadata": {},
   "outputs": [],
   "source": [
    "#aggregate by route\n",
    "OTP_lane_agg = stops_df.groupby(by='route').agg(on_time=('On_time',sum),n_stops=('train_id',len))"
   ]
  },
  {
   "cell_type": "code",
   "execution_count": 79,
   "metadata": {},
   "outputs": [
    {
     "data": {
      "text/html": [
       "<div>\n",
       "<style scoped>\n",
       "    .dataframe tbody tr th:only-of-type {\n",
       "        vertical-align: middle;\n",
       "    }\n",
       "\n",
       "    .dataframe tbody tr th {\n",
       "        vertical-align: top;\n",
       "    }\n",
       "\n",
       "    .dataframe thead th {\n",
       "        text-align: right;\n",
       "    }\n",
       "</style>\n",
       "<table border=\"1\" class=\"dataframe\">\n",
       "  <thead>\n",
       "    <tr style=\"text-align: right;\">\n",
       "      <th></th>\n",
       "      <th>on_time</th>\n",
       "      <th>n_stops</th>\n",
       "      <th>OTP</th>\n",
       "      <th>OTP_misses</th>\n",
       "    </tr>\n",
       "    <tr>\n",
       "      <th>route</th>\n",
       "      <th></th>\n",
       "      <th></th>\n",
       "      <th></th>\n",
       "      <th></th>\n",
       "    </tr>\n",
       "  </thead>\n",
       "  <tbody>\n",
       "    <tr>\n",
       "      <th>Fenchurch Street-&gt;Shoeburyness</th>\n",
       "      <td>81432</td>\n",
       "      <td>107929</td>\n",
       "      <td>75.449601</td>\n",
       "      <td>26497</td>\n",
       "    </tr>\n",
       "    <tr>\n",
       "      <th>Shoeburyness-&gt;Fenchurch Street</th>\n",
       "      <td>83028</td>\n",
       "      <td>97111</td>\n",
       "      <td>85.498038</td>\n",
       "      <td>14083</td>\n",
       "    </tr>\n",
       "    <tr>\n",
       "      <th>Fenchurch Street-&gt;Southend Central</th>\n",
       "      <td>14980</td>\n",
       "      <td>21651</td>\n",
       "      <td>69.188490</td>\n",
       "      <td>6671</td>\n",
       "    </tr>\n",
       "    <tr>\n",
       "      <th>Southend Central-&gt;Fenchurch Street</th>\n",
       "      <td>15576</td>\n",
       "      <td>21589</td>\n",
       "      <td>72.147853</td>\n",
       "      <td>6013</td>\n",
       "    </tr>\n",
       "    <tr>\n",
       "      <th>Barking Station Junction-&gt;Shoeburyness</th>\n",
       "      <td>8085</td>\n",
       "      <td>10774</td>\n",
       "      <td>75.041767</td>\n",
       "      <td>2689</td>\n",
       "    </tr>\n",
       "    <tr>\n",
       "      <th>Fenchurch Street-&gt;Barking</th>\n",
       "      <td>8190</td>\n",
       "      <td>10028</td>\n",
       "      <td>81.671320</td>\n",
       "      <td>1838</td>\n",
       "    </tr>\n",
       "    <tr>\n",
       "      <th>Barking-&gt;Fenchurch Street</th>\n",
       "      <td>6872</td>\n",
       "      <td>8532</td>\n",
       "      <td>80.543835</td>\n",
       "      <td>1660</td>\n",
       "    </tr>\n",
       "    <tr>\n",
       "      <th>Chafford Hundred-&gt;Fenchurch Street</th>\n",
       "      <td>7364</td>\n",
       "      <td>9019</td>\n",
       "      <td>81.649850</td>\n",
       "      <td>1655</td>\n",
       "    </tr>\n",
       "    <tr>\n",
       "      <th>Fenchurch Street-&gt;Chafford Hundred</th>\n",
       "      <td>4575</td>\n",
       "      <td>5924</td>\n",
       "      <td>77.228224</td>\n",
       "      <td>1349</td>\n",
       "    </tr>\n",
       "    <tr>\n",
       "      <th>Barking Station Junction-&gt;Barking</th>\n",
       "      <td>1311</td>\n",
       "      <td>2614</td>\n",
       "      <td>50.153022</td>\n",
       "      <td>1303</td>\n",
       "    </tr>\n",
       "  </tbody>\n",
       "</table>\n",
       "</div>"
      ],
      "text/plain": [
       "                                        on_time  n_stops        OTP  \\\n",
       "route                                                                 \n",
       "Fenchurch Street->Shoeburyness            81432   107929  75.449601   \n",
       "Shoeburyness->Fenchurch Street            83028    97111  85.498038   \n",
       "Fenchurch Street->Southend Central        14980    21651  69.188490   \n",
       "Southend Central->Fenchurch Street        15576    21589  72.147853   \n",
       "Barking Station Junction->Shoeburyness     8085    10774  75.041767   \n",
       "Fenchurch Street->Barking                  8190    10028  81.671320   \n",
       "Barking->Fenchurch Street                  6872     8532  80.543835   \n",
       "Chafford Hundred->Fenchurch Street         7364     9019  81.649850   \n",
       "Fenchurch Street->Chafford Hundred         4575     5924  77.228224   \n",
       "Barking Station Junction->Barking          1311     2614  50.153022   \n",
       "\n",
       "                                        OTP_misses  \n",
       "route                                               \n",
       "Fenchurch Street->Shoeburyness               26497  \n",
       "Shoeburyness->Fenchurch Street               14083  \n",
       "Fenchurch Street->Southend Central            6671  \n",
       "Southend Central->Fenchurch Street            6013  \n",
       "Barking Station Junction->Shoeburyness        2689  \n",
       "Fenchurch Street->Barking                     1838  \n",
       "Barking->Fenchurch Street                     1660  \n",
       "Chafford Hundred->Fenchurch Street            1655  \n",
       "Fenchurch Street->Chafford Hundred            1349  \n",
       "Barking Station Junction->Barking             1303  "
      ]
     },
     "execution_count": 79,
     "metadata": {},
     "output_type": "execute_result"
    }
   ],
   "source": [
    "#calculate performance metrics and show greatest number of misses\n",
    "OTP_lane_agg['OTP'] = 100*OTP_lane_agg['on_time']/OTP_lane_agg['n_stops']\n",
    "OTP_lane_agg['OTP_misses'] = OTP_lane_agg['n_stops']-OTP_lane_agg['on_time']\n",
    "OTP_lane_agg.sort_values(by='OTP_misses',ascending=False).head(10)"
   ]
  }
 ],
 "metadata": {
  "kernelspec": {
   "display_name": "Python 3.8.8 ('base')",
   "language": "python",
   "name": "python3"
  },
  "language_info": {
   "codemirror_mode": {
    "name": "ipython",
    "version": 3
   },
   "file_extension": ".py",
   "mimetype": "text/x-python",
   "name": "python",
   "nbconvert_exporter": "python",
   "pygments_lexer": "ipython3",
   "version": "3.8.8"
  },
  "orig_nbformat": 4,
  "vscode": {
   "interpreter": {
    "hash": "b522dfdf06a497d1434a6d7b3aa94bccbe99a534de1a9b2244ced98a3405f1a0"
   }
  }
 },
 "nbformat": 4,
 "nbformat_minor": 2
}
